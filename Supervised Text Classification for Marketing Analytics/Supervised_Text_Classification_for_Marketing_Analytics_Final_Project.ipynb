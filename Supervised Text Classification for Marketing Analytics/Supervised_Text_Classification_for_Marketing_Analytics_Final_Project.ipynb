{
 "nbformat": 4,
 "nbformat_minor": 0,
 "metadata": {
  "colab": {
   "provenance": [],
   "gpuType": "A100"
  },
  "kernelspec": {
   "name": "python3",
   "display_name": "Python 3 (ipykernel)",
   "language": "python"
  },
  "language_info": {
   "name": "python"
  },
  "accelerator": "GPU",
  "widgets": {
   "application/vnd.jupyter.widget-state+json": {
    "2700e9e26d874e2ebd8b92ceb06cc000": {
     "model_module": "@jupyter-widgets/controls",
     "model_name": "HBoxModel",
     "model_module_version": "1.5.0",
     "state": {
      "_dom_classes": [],
      "_model_module": "@jupyter-widgets/controls",
      "_model_module_version": "1.5.0",
      "_model_name": "HBoxModel",
      "_view_count": null,
      "_view_module": "@jupyter-widgets/controls",
      "_view_module_version": "1.5.0",
      "_view_name": "HBoxView",
      "box_style": "",
      "children": [
       "IPY_MODEL_5fb4f7e25f314abd9fd86ca8a641c7dd",
       "IPY_MODEL_b22175d57ed64908a6bfff7cd22bdab4",
       "IPY_MODEL_2edd3be06d96448ca67e2f4131b020de"
      ],
      "layout": "IPY_MODEL_c4ce646f23c8405cbe1fdf7311fbd846"
     }
    },
    "5fb4f7e25f314abd9fd86ca8a641c7dd": {
     "model_module": "@jupyter-widgets/controls",
     "model_name": "HTMLModel",
     "model_module_version": "1.5.0",
     "state": {
      "_dom_classes": [],
      "_model_module": "@jupyter-widgets/controls",
      "_model_module_version": "1.5.0",
      "_model_name": "HTMLModel",
      "_view_count": null,
      "_view_module": "@jupyter-widgets/controls",
      "_view_module_version": "1.5.0",
      "_view_name": "HTMLView",
      "description": "",
      "description_tooltip": null,
      "layout": "IPY_MODEL_d7f53cb4670948f58dc23d13916dce0c",
      "placeholder": "​",
      "style": "IPY_MODEL_c98244e5f19141888dd5121c5a3f00e8",
      "value": "config.json: 100%"
     }
    },
    "b22175d57ed64908a6bfff7cd22bdab4": {
     "model_module": "@jupyter-widgets/controls",
     "model_name": "FloatProgressModel",
     "model_module_version": "1.5.0",
     "state": {
      "_dom_classes": [],
      "_model_module": "@jupyter-widgets/controls",
      "_model_module_version": "1.5.0",
      "_model_name": "FloatProgressModel",
      "_view_count": null,
      "_view_module": "@jupyter-widgets/controls",
      "_view_module_version": "1.5.0",
      "_view_name": "ProgressView",
      "bar_style": "success",
      "description": "",
      "description_tooltip": null,
      "layout": "IPY_MODEL_1f540d91d7644c31ac07fd3f599e6cbd",
      "max": 483,
      "min": 0,
      "orientation": "horizontal",
      "style": "IPY_MODEL_0d7842a00f9b4547a33dd2a88f3b575b",
      "value": 483
     }
    },
    "2edd3be06d96448ca67e2f4131b020de": {
     "model_module": "@jupyter-widgets/controls",
     "model_name": "HTMLModel",
     "model_module_version": "1.5.0",
     "state": {
      "_dom_classes": [],
      "_model_module": "@jupyter-widgets/controls",
      "_model_module_version": "1.5.0",
      "_model_name": "HTMLModel",
      "_view_count": null,
      "_view_module": "@jupyter-widgets/controls",
      "_view_module_version": "1.5.0",
      "_view_name": "HTMLView",
      "description": "",
      "description_tooltip": null,
      "layout": "IPY_MODEL_fe661c56dbc142adac9886589ae89d05",
      "placeholder": "​",
      "style": "IPY_MODEL_70eb23f22c6c4206a2a9b9df88c38911",
      "value": " 483/483 [00:00&lt;00:00, 51.1kB/s]"
     }
    },
    "c4ce646f23c8405cbe1fdf7311fbd846": {
     "model_module": "@jupyter-widgets/base",
     "model_name": "LayoutModel",
     "model_module_version": "1.2.0",
     "state": {
      "_model_module": "@jupyter-widgets/base",
      "_model_module_version": "1.2.0",
      "_model_name": "LayoutModel",
      "_view_count": null,
      "_view_module": "@jupyter-widgets/base",
      "_view_module_version": "1.2.0",
      "_view_name": "LayoutView",
      "align_content": null,
      "align_items": null,
      "align_self": null,
      "border": null,
      "bottom": null,
      "display": null,
      "flex": null,
      "flex_flow": null,
      "grid_area": null,
      "grid_auto_columns": null,
      "grid_auto_flow": null,
      "grid_auto_rows": null,
      "grid_column": null,
      "grid_gap": null,
      "grid_row": null,
      "grid_template_areas": null,
      "grid_template_columns": null,
      "grid_template_rows": null,
      "height": null,
      "justify_content": null,
      "justify_items": null,
      "left": null,
      "margin": null,
      "max_height": null,
      "max_width": null,
      "min_height": null,
      "min_width": null,
      "object_fit": null,
      "object_position": null,
      "order": null,
      "overflow": null,
      "overflow_x": null,
      "overflow_y": null,
      "padding": null,
      "right": null,
      "top": null,
      "visibility": null,
      "width": null
     }
    },
    "d7f53cb4670948f58dc23d13916dce0c": {
     "model_module": "@jupyter-widgets/base",
     "model_name": "LayoutModel",
     "model_module_version": "1.2.0",
     "state": {
      "_model_module": "@jupyter-widgets/base",
      "_model_module_version": "1.2.0",
      "_model_name": "LayoutModel",
      "_view_count": null,
      "_view_module": "@jupyter-widgets/base",
      "_view_module_version": "1.2.0",
      "_view_name": "LayoutView",
      "align_content": null,
      "align_items": null,
      "align_self": null,
      "border": null,
      "bottom": null,
      "display": null,
      "flex": null,
      "flex_flow": null,
      "grid_area": null,
      "grid_auto_columns": null,
      "grid_auto_flow": null,
      "grid_auto_rows": null,
      "grid_column": null,
      "grid_gap": null,
      "grid_row": null,
      "grid_template_areas": null,
      "grid_template_columns": null,
      "grid_template_rows": null,
      "height": null,
      "justify_content": null,
      "justify_items": null,
      "left": null,
      "margin": null,
      "max_height": null,
      "max_width": null,
      "min_height": null,
      "min_width": null,
      "object_fit": null,
      "object_position": null,
      "order": null,
      "overflow": null,
      "overflow_x": null,
      "overflow_y": null,
      "padding": null,
      "right": null,
      "top": null,
      "visibility": null,
      "width": null
     }
    },
    "c98244e5f19141888dd5121c5a3f00e8": {
     "model_module": "@jupyter-widgets/controls",
     "model_name": "DescriptionStyleModel",
     "model_module_version": "1.5.0",
     "state": {
      "_model_module": "@jupyter-widgets/controls",
      "_model_module_version": "1.5.0",
      "_model_name": "DescriptionStyleModel",
      "_view_count": null,
      "_view_module": "@jupyter-widgets/base",
      "_view_module_version": "1.2.0",
      "_view_name": "StyleView",
      "description_width": ""
     }
    },
    "1f540d91d7644c31ac07fd3f599e6cbd": {
     "model_module": "@jupyter-widgets/base",
     "model_name": "LayoutModel",
     "model_module_version": "1.2.0",
     "state": {
      "_model_module": "@jupyter-widgets/base",
      "_model_module_version": "1.2.0",
      "_model_name": "LayoutModel",
      "_view_count": null,
      "_view_module": "@jupyter-widgets/base",
      "_view_module_version": "1.2.0",
      "_view_name": "LayoutView",
      "align_content": null,
      "align_items": null,
      "align_self": null,
      "border": null,
      "bottom": null,
      "display": null,
      "flex": null,
      "flex_flow": null,
      "grid_area": null,
      "grid_auto_columns": null,
      "grid_auto_flow": null,
      "grid_auto_rows": null,
      "grid_column": null,
      "grid_gap": null,
      "grid_row": null,
      "grid_template_areas": null,
      "grid_template_columns": null,
      "grid_template_rows": null,
      "height": null,
      "justify_content": null,
      "justify_items": null,
      "left": null,
      "margin": null,
      "max_height": null,
      "max_width": null,
      "min_height": null,
      "min_width": null,
      "object_fit": null,
      "object_position": null,
      "order": null,
      "overflow": null,
      "overflow_x": null,
      "overflow_y": null,
      "padding": null,
      "right": null,
      "top": null,
      "visibility": null,
      "width": null
     }
    },
    "0d7842a00f9b4547a33dd2a88f3b575b": {
     "model_module": "@jupyter-widgets/controls",
     "model_name": "ProgressStyleModel",
     "model_module_version": "1.5.0",
     "state": {
      "_model_module": "@jupyter-widgets/controls",
      "_model_module_version": "1.5.0",
      "_model_name": "ProgressStyleModel",
      "_view_count": null,
      "_view_module": "@jupyter-widgets/base",
      "_view_module_version": "1.2.0",
      "_view_name": "StyleView",
      "bar_color": null,
      "description_width": ""
     }
    },
    "fe661c56dbc142adac9886589ae89d05": {
     "model_module": "@jupyter-widgets/base",
     "model_name": "LayoutModel",
     "model_module_version": "1.2.0",
     "state": {
      "_model_module": "@jupyter-widgets/base",
      "_model_module_version": "1.2.0",
      "_model_name": "LayoutModel",
      "_view_count": null,
      "_view_module": "@jupyter-widgets/base",
      "_view_module_version": "1.2.0",
      "_view_name": "LayoutView",
      "align_content": null,
      "align_items": null,
      "align_self": null,
      "border": null,
      "bottom": null,
      "display": null,
      "flex": null,
      "flex_flow": null,
      "grid_area": null,
      "grid_auto_columns": null,
      "grid_auto_flow": null,
      "grid_auto_rows": null,
      "grid_column": null,
      "grid_gap": null,
      "grid_row": null,
      "grid_template_areas": null,
      "grid_template_columns": null,
      "grid_template_rows": null,
      "height": null,
      "justify_content": null,
      "justify_items": null,
      "left": null,
      "margin": null,
      "max_height": null,
      "max_width": null,
      "min_height": null,
      "min_width": null,
      "object_fit": null,
      "object_position": null,
      "order": null,
      "overflow": null,
      "overflow_x": null,
      "overflow_y": null,
      "padding": null,
      "right": null,
      "top": null,
      "visibility": null,
      "width": null
     }
    },
    "70eb23f22c6c4206a2a9b9df88c38911": {
     "model_module": "@jupyter-widgets/controls",
     "model_name": "DescriptionStyleModel",
     "model_module_version": "1.5.0",
     "state": {
      "_model_module": "@jupyter-widgets/controls",
      "_model_module_version": "1.5.0",
      "_model_name": "DescriptionStyleModel",
      "_view_count": null,
      "_view_module": "@jupyter-widgets/base",
      "_view_module_version": "1.2.0",
      "_view_name": "StyleView",
      "description_width": ""
     }
    },
    "35eaa008500c460a82d14a0710b1bcc4": {
     "model_module": "@jupyter-widgets/controls",
     "model_name": "HBoxModel",
     "model_module_version": "1.5.0",
     "state": {
      "_dom_classes": [],
      "_model_module": "@jupyter-widgets/controls",
      "_model_module_version": "1.5.0",
      "_model_name": "HBoxModel",
      "_view_count": null,
      "_view_module": "@jupyter-widgets/controls",
      "_view_module_version": "1.5.0",
      "_view_name": "HBoxView",
      "box_style": "",
      "children": [
       "IPY_MODEL_96d4d96efb6a42edb106f090148a24a5",
       "IPY_MODEL_5f1d4a9c960c4e5989220a808a9cb40d",
       "IPY_MODEL_907f588f948d4d77bee51b97a864cbda"
      ],
      "layout": "IPY_MODEL_2c13b6183bc04526919dec83d59d3ad4"
     }
    },
    "96d4d96efb6a42edb106f090148a24a5": {
     "model_module": "@jupyter-widgets/controls",
     "model_name": "HTMLModel",
     "model_module_version": "1.5.0",
     "state": {
      "_dom_classes": [],
      "_model_module": "@jupyter-widgets/controls",
      "_model_module_version": "1.5.0",
      "_model_name": "HTMLModel",
      "_view_count": null,
      "_view_module": "@jupyter-widgets/controls",
      "_view_module_version": "1.5.0",
      "_view_name": "HTMLView",
      "description": "",
      "description_tooltip": null,
      "layout": "IPY_MODEL_6187df8eabe3425bb0486da557186716",
      "placeholder": "​",
      "style": "IPY_MODEL_b9983b9396254ba6ba6b7ea96955ea36",
      "value": "model.safetensors: 100%"
     }
    },
    "5f1d4a9c960c4e5989220a808a9cb40d": {
     "model_module": "@jupyter-widgets/controls",
     "model_name": "FloatProgressModel",
     "model_module_version": "1.5.0",
     "state": {
      "_dom_classes": [],
      "_model_module": "@jupyter-widgets/controls",
      "_model_module_version": "1.5.0",
      "_model_name": "FloatProgressModel",
      "_view_count": null,
      "_view_module": "@jupyter-widgets/controls",
      "_view_module_version": "1.5.0",
      "_view_name": "ProgressView",
      "bar_style": "success",
      "description": "",
      "description_tooltip": null,
      "layout": "IPY_MODEL_d039c148fc924e13824b40490cd1a56a",
      "max": 267954768,
      "min": 0,
      "orientation": "horizontal",
      "style": "IPY_MODEL_6f891ee8462640febf79bfce966e7729",
      "value": 267954768
     }
    },
    "907f588f948d4d77bee51b97a864cbda": {
     "model_module": "@jupyter-widgets/controls",
     "model_name": "HTMLModel",
     "model_module_version": "1.5.0",
     "state": {
      "_dom_classes": [],
      "_model_module": "@jupyter-widgets/controls",
      "_model_module_version": "1.5.0",
      "_model_name": "HTMLModel",
      "_view_count": null,
      "_view_module": "@jupyter-widgets/controls",
      "_view_module_version": "1.5.0",
      "_view_name": "HTMLView",
      "description": "",
      "description_tooltip": null,
      "layout": "IPY_MODEL_47f75d95f0d649fc853df9435dfd1ebb",
      "placeholder": "​",
      "style": "IPY_MODEL_4604364ffb654839840e44e81e9ec23d",
      "value": " 268M/268M [00:01&lt;00:00, 234MB/s]"
     }
    },
    "2c13b6183bc04526919dec83d59d3ad4": {
     "model_module": "@jupyter-widgets/base",
     "model_name": "LayoutModel",
     "model_module_version": "1.2.0",
     "state": {
      "_model_module": "@jupyter-widgets/base",
      "_model_module_version": "1.2.0",
      "_model_name": "LayoutModel",
      "_view_count": null,
      "_view_module": "@jupyter-widgets/base",
      "_view_module_version": "1.2.0",
      "_view_name": "LayoutView",
      "align_content": null,
      "align_items": null,
      "align_self": null,
      "border": null,
      "bottom": null,
      "display": null,
      "flex": null,
      "flex_flow": null,
      "grid_area": null,
      "grid_auto_columns": null,
      "grid_auto_flow": null,
      "grid_auto_rows": null,
      "grid_column": null,
      "grid_gap": null,
      "grid_row": null,
      "grid_template_areas": null,
      "grid_template_columns": null,
      "grid_template_rows": null,
      "height": null,
      "justify_content": null,
      "justify_items": null,
      "left": null,
      "margin": null,
      "max_height": null,
      "max_width": null,
      "min_height": null,
      "min_width": null,
      "object_fit": null,
      "object_position": null,
      "order": null,
      "overflow": null,
      "overflow_x": null,
      "overflow_y": null,
      "padding": null,
      "right": null,
      "top": null,
      "visibility": null,
      "width": null
     }
    },
    "6187df8eabe3425bb0486da557186716": {
     "model_module": "@jupyter-widgets/base",
     "model_name": "LayoutModel",
     "model_module_version": "1.2.0",
     "state": {
      "_model_module": "@jupyter-widgets/base",
      "_model_module_version": "1.2.0",
      "_model_name": "LayoutModel",
      "_view_count": null,
      "_view_module": "@jupyter-widgets/base",
      "_view_module_version": "1.2.0",
      "_view_name": "LayoutView",
      "align_content": null,
      "align_items": null,
      "align_self": null,
      "border": null,
      "bottom": null,
      "display": null,
      "flex": null,
      "flex_flow": null,
      "grid_area": null,
      "grid_auto_columns": null,
      "grid_auto_flow": null,
      "grid_auto_rows": null,
      "grid_column": null,
      "grid_gap": null,
      "grid_row": null,
      "grid_template_areas": null,
      "grid_template_columns": null,
      "grid_template_rows": null,
      "height": null,
      "justify_content": null,
      "justify_items": null,
      "left": null,
      "margin": null,
      "max_height": null,
      "max_width": null,
      "min_height": null,
      "min_width": null,
      "object_fit": null,
      "object_position": null,
      "order": null,
      "overflow": null,
      "overflow_x": null,
      "overflow_y": null,
      "padding": null,
      "right": null,
      "top": null,
      "visibility": null,
      "width": null
     }
    },
    "b9983b9396254ba6ba6b7ea96955ea36": {
     "model_module": "@jupyter-widgets/controls",
     "model_name": "DescriptionStyleModel",
     "model_module_version": "1.5.0",
     "state": {
      "_model_module": "@jupyter-widgets/controls",
      "_model_module_version": "1.5.0",
      "_model_name": "DescriptionStyleModel",
      "_view_count": null,
      "_view_module": "@jupyter-widgets/base",
      "_view_module_version": "1.2.0",
      "_view_name": "StyleView",
      "description_width": ""
     }
    },
    "d039c148fc924e13824b40490cd1a56a": {
     "model_module": "@jupyter-widgets/base",
     "model_name": "LayoutModel",
     "model_module_version": "1.2.0",
     "state": {
      "_model_module": "@jupyter-widgets/base",
      "_model_module_version": "1.2.0",
      "_model_name": "LayoutModel",
      "_view_count": null,
      "_view_module": "@jupyter-widgets/base",
      "_view_module_version": "1.2.0",
      "_view_name": "LayoutView",
      "align_content": null,
      "align_items": null,
      "align_self": null,
      "border": null,
      "bottom": null,
      "display": null,
      "flex": null,
      "flex_flow": null,
      "grid_area": null,
      "grid_auto_columns": null,
      "grid_auto_flow": null,
      "grid_auto_rows": null,
      "grid_column": null,
      "grid_gap": null,
      "grid_row": null,
      "grid_template_areas": null,
      "grid_template_columns": null,
      "grid_template_rows": null,
      "height": null,
      "justify_content": null,
      "justify_items": null,
      "left": null,
      "margin": null,
      "max_height": null,
      "max_width": null,
      "min_height": null,
      "min_width": null,
      "object_fit": null,
      "object_position": null,
      "order": null,
      "overflow": null,
      "overflow_x": null,
      "overflow_y": null,
      "padding": null,
      "right": null,
      "top": null,
      "visibility": null,
      "width": null
     }
    },
    "6f891ee8462640febf79bfce966e7729": {
     "model_module": "@jupyter-widgets/controls",
     "model_name": "ProgressStyleModel",
     "model_module_version": "1.5.0",
     "state": {
      "_model_module": "@jupyter-widgets/controls",
      "_model_module_version": "1.5.0",
      "_model_name": "ProgressStyleModel",
      "_view_count": null,
      "_view_module": "@jupyter-widgets/base",
      "_view_module_version": "1.2.0",
      "_view_name": "StyleView",
      "bar_color": null,
      "description_width": ""
     }
    },
    "47f75d95f0d649fc853df9435dfd1ebb": {
     "model_module": "@jupyter-widgets/base",
     "model_name": "LayoutModel",
     "model_module_version": "1.2.0",
     "state": {
      "_model_module": "@jupyter-widgets/base",
      "_model_module_version": "1.2.0",
      "_model_name": "LayoutModel",
      "_view_count": null,
      "_view_module": "@jupyter-widgets/base",
      "_view_module_version": "1.2.0",
      "_view_name": "LayoutView",
      "align_content": null,
      "align_items": null,
      "align_self": null,
      "border": null,
      "bottom": null,
      "display": null,
      "flex": null,
      "flex_flow": null,
      "grid_area": null,
      "grid_auto_columns": null,
      "grid_auto_flow": null,
      "grid_auto_rows": null,
      "grid_column": null,
      "grid_gap": null,
      "grid_row": null,
      "grid_template_areas": null,
      "grid_template_columns": null,
      "grid_template_rows": null,
      "height": null,
      "justify_content": null,
      "justify_items": null,
      "left": null,
      "margin": null,
      "max_height": null,
      "max_width": null,
      "min_height": null,
      "min_width": null,
      "object_fit": null,
      "object_position": null,
      "order": null,
      "overflow": null,
      "overflow_x": null,
      "overflow_y": null,
      "padding": null,
      "right": null,
      "top": null,
      "visibility": null,
      "width": null
     }
    },
    "4604364ffb654839840e44e81e9ec23d": {
     "model_module": "@jupyter-widgets/controls",
     "model_name": "DescriptionStyleModel",
     "model_module_version": "1.5.0",
     "state": {
      "_model_module": "@jupyter-widgets/controls",
      "_model_module_version": "1.5.0",
      "_model_name": "DescriptionStyleModel",
      "_view_count": null,
      "_view_module": "@jupyter-widgets/base",
      "_view_module_version": "1.2.0",
      "_view_name": "StyleView",
      "description_width": ""
     }
    },
    "93df7b0ed42e498db50ce084ae466a79": {
     "model_module": "@jupyter-widgets/controls",
     "model_name": "HBoxModel",
     "model_module_version": "1.5.0",
     "state": {
      "_dom_classes": [],
      "_model_module": "@jupyter-widgets/controls",
      "_model_module_version": "1.5.0",
      "_model_name": "HBoxModel",
      "_view_count": null,
      "_view_module": "@jupyter-widgets/controls",
      "_view_module_version": "1.5.0",
      "_view_name": "HBoxView",
      "box_style": "",
      "children": [
       "IPY_MODEL_86beb01d27864329b5c4875f2ea4ce0f",
       "IPY_MODEL_a784eedac0664de7803b2d1e0f4fc02a",
       "IPY_MODEL_55ee8376d73d49e7ba5226422e04ce55"
      ],
      "layout": "IPY_MODEL_dd6fcca60d554e5eb8c9a654e2f0511e"
     }
    },
    "86beb01d27864329b5c4875f2ea4ce0f": {
     "model_module": "@jupyter-widgets/controls",
     "model_name": "HTMLModel",
     "model_module_version": "1.5.0",
     "state": {
      "_dom_classes": [],
      "_model_module": "@jupyter-widgets/controls",
      "_model_module_version": "1.5.0",
      "_model_name": "HTMLModel",
      "_view_count": null,
      "_view_module": "@jupyter-widgets/controls",
      "_view_module_version": "1.5.0",
      "_view_name": "HTMLView",
      "description": "",
      "description_tooltip": null,
      "layout": "IPY_MODEL_b1c6fdaffb5c4e5dbf5f27f62495858f",
      "placeholder": "​",
      "style": "IPY_MODEL_fcb58fe22a084282b79dc4375e3a8e9f",
      "value": "tokenizer_config.json: 100%"
     }
    },
    "a784eedac0664de7803b2d1e0f4fc02a": {
     "model_module": "@jupyter-widgets/controls",
     "model_name": "FloatProgressModel",
     "model_module_version": "1.5.0",
     "state": {
      "_dom_classes": [],
      "_model_module": "@jupyter-widgets/controls",
      "_model_module_version": "1.5.0",
      "_model_name": "FloatProgressModel",
      "_view_count": null,
      "_view_module": "@jupyter-widgets/controls",
      "_view_module_version": "1.5.0",
      "_view_name": "ProgressView",
      "bar_style": "success",
      "description": "",
      "description_tooltip": null,
      "layout": "IPY_MODEL_8d1fa6b858df487b88598c089756ce40",
      "max": 48,
      "min": 0,
      "orientation": "horizontal",
      "style": "IPY_MODEL_2113b5fc235b449d8ccdc3c44d378563",
      "value": 48
     }
    },
    "55ee8376d73d49e7ba5226422e04ce55": {
     "model_module": "@jupyter-widgets/controls",
     "model_name": "HTMLModel",
     "model_module_version": "1.5.0",
     "state": {
      "_dom_classes": [],
      "_model_module": "@jupyter-widgets/controls",
      "_model_module_version": "1.5.0",
      "_model_name": "HTMLModel",
      "_view_count": null,
      "_view_module": "@jupyter-widgets/controls",
      "_view_module_version": "1.5.0",
      "_view_name": "HTMLView",
      "description": "",
      "description_tooltip": null,
      "layout": "IPY_MODEL_da5babdb858e4f688818f2db140e61cc",
      "placeholder": "​",
      "style": "IPY_MODEL_8b5e6577a6c248f0a999e68d5ffb8cf9",
      "value": " 48.0/48.0 [00:00&lt;00:00, 6.09kB/s]"
     }
    },
    "dd6fcca60d554e5eb8c9a654e2f0511e": {
     "model_module": "@jupyter-widgets/base",
     "model_name": "LayoutModel",
     "model_module_version": "1.2.0",
     "state": {
      "_model_module": "@jupyter-widgets/base",
      "_model_module_version": "1.2.0",
      "_model_name": "LayoutModel",
      "_view_count": null,
      "_view_module": "@jupyter-widgets/base",
      "_view_module_version": "1.2.0",
      "_view_name": "LayoutView",
      "align_content": null,
      "align_items": null,
      "align_self": null,
      "border": null,
      "bottom": null,
      "display": null,
      "flex": null,
      "flex_flow": null,
      "grid_area": null,
      "grid_auto_columns": null,
      "grid_auto_flow": null,
      "grid_auto_rows": null,
      "grid_column": null,
      "grid_gap": null,
      "grid_row": null,
      "grid_template_areas": null,
      "grid_template_columns": null,
      "grid_template_rows": null,
      "height": null,
      "justify_content": null,
      "justify_items": null,
      "left": null,
      "margin": null,
      "max_height": null,
      "max_width": null,
      "min_height": null,
      "min_width": null,
      "object_fit": null,
      "object_position": null,
      "order": null,
      "overflow": null,
      "overflow_x": null,
      "overflow_y": null,
      "padding": null,
      "right": null,
      "top": null,
      "visibility": null,
      "width": null
     }
    },
    "b1c6fdaffb5c4e5dbf5f27f62495858f": {
     "model_module": "@jupyter-widgets/base",
     "model_name": "LayoutModel",
     "model_module_version": "1.2.0",
     "state": {
      "_model_module": "@jupyter-widgets/base",
      "_model_module_version": "1.2.0",
      "_model_name": "LayoutModel",
      "_view_count": null,
      "_view_module": "@jupyter-widgets/base",
      "_view_module_version": "1.2.0",
      "_view_name": "LayoutView",
      "align_content": null,
      "align_items": null,
      "align_self": null,
      "border": null,
      "bottom": null,
      "display": null,
      "flex": null,
      "flex_flow": null,
      "grid_area": null,
      "grid_auto_columns": null,
      "grid_auto_flow": null,
      "grid_auto_rows": null,
      "grid_column": null,
      "grid_gap": null,
      "grid_row": null,
      "grid_template_areas": null,
      "grid_template_columns": null,
      "grid_template_rows": null,
      "height": null,
      "justify_content": null,
      "justify_items": null,
      "left": null,
      "margin": null,
      "max_height": null,
      "max_width": null,
      "min_height": null,
      "min_width": null,
      "object_fit": null,
      "object_position": null,
      "order": null,
      "overflow": null,
      "overflow_x": null,
      "overflow_y": null,
      "padding": null,
      "right": null,
      "top": null,
      "visibility": null,
      "width": null
     }
    },
    "fcb58fe22a084282b79dc4375e3a8e9f": {
     "model_module": "@jupyter-widgets/controls",
     "model_name": "DescriptionStyleModel",
     "model_module_version": "1.5.0",
     "state": {
      "_model_module": "@jupyter-widgets/controls",
      "_model_module_version": "1.5.0",
      "_model_name": "DescriptionStyleModel",
      "_view_count": null,
      "_view_module": "@jupyter-widgets/base",
      "_view_module_version": "1.2.0",
      "_view_name": "StyleView",
      "description_width": ""
     }
    },
    "8d1fa6b858df487b88598c089756ce40": {
     "model_module": "@jupyter-widgets/base",
     "model_name": "LayoutModel",
     "model_module_version": "1.2.0",
     "state": {
      "_model_module": "@jupyter-widgets/base",
      "_model_module_version": "1.2.0",
      "_model_name": "LayoutModel",
      "_view_count": null,
      "_view_module": "@jupyter-widgets/base",
      "_view_module_version": "1.2.0",
      "_view_name": "LayoutView",
      "align_content": null,
      "align_items": null,
      "align_self": null,
      "border": null,
      "bottom": null,
      "display": null,
      "flex": null,
      "flex_flow": null,
      "grid_area": null,
      "grid_auto_columns": null,
      "grid_auto_flow": null,
      "grid_auto_rows": null,
      "grid_column": null,
      "grid_gap": null,
      "grid_row": null,
      "grid_template_areas": null,
      "grid_template_columns": null,
      "grid_template_rows": null,
      "height": null,
      "justify_content": null,
      "justify_items": null,
      "left": null,
      "margin": null,
      "max_height": null,
      "max_width": null,
      "min_height": null,
      "min_width": null,
      "object_fit": null,
      "object_position": null,
      "order": null,
      "overflow": null,
      "overflow_x": null,
      "overflow_y": null,
      "padding": null,
      "right": null,
      "top": null,
      "visibility": null,
      "width": null
     }
    },
    "2113b5fc235b449d8ccdc3c44d378563": {
     "model_module": "@jupyter-widgets/controls",
     "model_name": "ProgressStyleModel",
     "model_module_version": "1.5.0",
     "state": {
      "_model_module": "@jupyter-widgets/controls",
      "_model_module_version": "1.5.0",
      "_model_name": "ProgressStyleModel",
      "_view_count": null,
      "_view_module": "@jupyter-widgets/base",
      "_view_module_version": "1.2.0",
      "_view_name": "StyleView",
      "bar_color": null,
      "description_width": ""
     }
    },
    "da5babdb858e4f688818f2db140e61cc": {
     "model_module": "@jupyter-widgets/base",
     "model_name": "LayoutModel",
     "model_module_version": "1.2.0",
     "state": {
      "_model_module": "@jupyter-widgets/base",
      "_model_module_version": "1.2.0",
      "_model_name": "LayoutModel",
      "_view_count": null,
      "_view_module": "@jupyter-widgets/base",
      "_view_module_version": "1.2.0",
      "_view_name": "LayoutView",
      "align_content": null,
      "align_items": null,
      "align_self": null,
      "border": null,
      "bottom": null,
      "display": null,
      "flex": null,
      "flex_flow": null,
      "grid_area": null,
      "grid_auto_columns": null,
      "grid_auto_flow": null,
      "grid_auto_rows": null,
      "grid_column": null,
      "grid_gap": null,
      "grid_row": null,
      "grid_template_areas": null,
      "grid_template_columns": null,
      "grid_template_rows": null,
      "height": null,
      "justify_content": null,
      "justify_items": null,
      "left": null,
      "margin": null,
      "max_height": null,
      "max_width": null,
      "min_height": null,
      "min_width": null,
      "object_fit": null,
      "object_position": null,
      "order": null,
      "overflow": null,
      "overflow_x": null,
      "overflow_y": null,
      "padding": null,
      "right": null,
      "top": null,
      "visibility": null,
      "width": null
     }
    },
    "8b5e6577a6c248f0a999e68d5ffb8cf9": {
     "model_module": "@jupyter-widgets/controls",
     "model_name": "DescriptionStyleModel",
     "model_module_version": "1.5.0",
     "state": {
      "_model_module": "@jupyter-widgets/controls",
      "_model_module_version": "1.5.0",
      "_model_name": "DescriptionStyleModel",
      "_view_count": null,
      "_view_module": "@jupyter-widgets/base",
      "_view_module_version": "1.2.0",
      "_view_name": "StyleView",
      "description_width": ""
     }
    },
    "3eda7e091a704d728126b0a4fe1b6b9f": {
     "model_module": "@jupyter-widgets/controls",
     "model_name": "HBoxModel",
     "model_module_version": "1.5.0",
     "state": {
      "_dom_classes": [],
      "_model_module": "@jupyter-widgets/controls",
      "_model_module_version": "1.5.0",
      "_model_name": "HBoxModel",
      "_view_count": null,
      "_view_module": "@jupyter-widgets/controls",
      "_view_module_version": "1.5.0",
      "_view_name": "HBoxView",
      "box_style": "",
      "children": [
       "IPY_MODEL_1a10ff3035664e2b8991de64d63db43d",
       "IPY_MODEL_c2161c1358c34af9b070282872286b2d",
       "IPY_MODEL_4c4f755dabc0424d80c3ebc4fd7281dc"
      ],
      "layout": "IPY_MODEL_18e20761da1c419a92c7f461625e9ccc"
     }
    },
    "1a10ff3035664e2b8991de64d63db43d": {
     "model_module": "@jupyter-widgets/controls",
     "model_name": "HTMLModel",
     "model_module_version": "1.5.0",
     "state": {
      "_dom_classes": [],
      "_model_module": "@jupyter-widgets/controls",
      "_model_module_version": "1.5.0",
      "_model_name": "HTMLModel",
      "_view_count": null,
      "_view_module": "@jupyter-widgets/controls",
      "_view_module_version": "1.5.0",
      "_view_name": "HTMLView",
      "description": "",
      "description_tooltip": null,
      "layout": "IPY_MODEL_40ee642a720945db9d71a0eafdab1052",
      "placeholder": "​",
      "style": "IPY_MODEL_7adac365b8b941daa0c85e15c1be118f",
      "value": "vocab.txt: 100%"
     }
    },
    "c2161c1358c34af9b070282872286b2d": {
     "model_module": "@jupyter-widgets/controls",
     "model_name": "FloatProgressModel",
     "model_module_version": "1.5.0",
     "state": {
      "_dom_classes": [],
      "_model_module": "@jupyter-widgets/controls",
      "_model_module_version": "1.5.0",
      "_model_name": "FloatProgressModel",
      "_view_count": null,
      "_view_module": "@jupyter-widgets/controls",
      "_view_module_version": "1.5.0",
      "_view_name": "ProgressView",
      "bar_style": "success",
      "description": "",
      "description_tooltip": null,
      "layout": "IPY_MODEL_cda2888b0db348a8a0147bda24d60771",
      "max": 231508,
      "min": 0,
      "orientation": "horizontal",
      "style": "IPY_MODEL_d88ee9020224420e9927e7730a1bba77",
      "value": 231508
     }
    },
    "4c4f755dabc0424d80c3ebc4fd7281dc": {
     "model_module": "@jupyter-widgets/controls",
     "model_name": "HTMLModel",
     "model_module_version": "1.5.0",
     "state": {
      "_dom_classes": [],
      "_model_module": "@jupyter-widgets/controls",
      "_model_module_version": "1.5.0",
      "_model_name": "HTMLModel",
      "_view_count": null,
      "_view_module": "@jupyter-widgets/controls",
      "_view_module_version": "1.5.0",
      "_view_name": "HTMLView",
      "description": "",
      "description_tooltip": null,
      "layout": "IPY_MODEL_02951954848c4b899bf49d253a46e496",
      "placeholder": "​",
      "style": "IPY_MODEL_21bf0a44e8464f94974acfd87e04ba2d",
      "value": " 232k/232k [00:00&lt;00:00, 1.46MB/s]"
     }
    },
    "18e20761da1c419a92c7f461625e9ccc": {
     "model_module": "@jupyter-widgets/base",
     "model_name": "LayoutModel",
     "model_module_version": "1.2.0",
     "state": {
      "_model_module": "@jupyter-widgets/base",
      "_model_module_version": "1.2.0",
      "_model_name": "LayoutModel",
      "_view_count": null,
      "_view_module": "@jupyter-widgets/base",
      "_view_module_version": "1.2.0",
      "_view_name": "LayoutView",
      "align_content": null,
      "align_items": null,
      "align_self": null,
      "border": null,
      "bottom": null,
      "display": null,
      "flex": null,
      "flex_flow": null,
      "grid_area": null,
      "grid_auto_columns": null,
      "grid_auto_flow": null,
      "grid_auto_rows": null,
      "grid_column": null,
      "grid_gap": null,
      "grid_row": null,
      "grid_template_areas": null,
      "grid_template_columns": null,
      "grid_template_rows": null,
      "height": null,
      "justify_content": null,
      "justify_items": null,
      "left": null,
      "margin": null,
      "max_height": null,
      "max_width": null,
      "min_height": null,
      "min_width": null,
      "object_fit": null,
      "object_position": null,
      "order": null,
      "overflow": null,
      "overflow_x": null,
      "overflow_y": null,
      "padding": null,
      "right": null,
      "top": null,
      "visibility": null,
      "width": null
     }
    },
    "40ee642a720945db9d71a0eafdab1052": {
     "model_module": "@jupyter-widgets/base",
     "model_name": "LayoutModel",
     "model_module_version": "1.2.0",
     "state": {
      "_model_module": "@jupyter-widgets/base",
      "_model_module_version": "1.2.0",
      "_model_name": "LayoutModel",
      "_view_count": null,
      "_view_module": "@jupyter-widgets/base",
      "_view_module_version": "1.2.0",
      "_view_name": "LayoutView",
      "align_content": null,
      "align_items": null,
      "align_self": null,
      "border": null,
      "bottom": null,
      "display": null,
      "flex": null,
      "flex_flow": null,
      "grid_area": null,
      "grid_auto_columns": null,
      "grid_auto_flow": null,
      "grid_auto_rows": null,
      "grid_column": null,
      "grid_gap": null,
      "grid_row": null,
      "grid_template_areas": null,
      "grid_template_columns": null,
      "grid_template_rows": null,
      "height": null,
      "justify_content": null,
      "justify_items": null,
      "left": null,
      "margin": null,
      "max_height": null,
      "max_width": null,
      "min_height": null,
      "min_width": null,
      "object_fit": null,
      "object_position": null,
      "order": null,
      "overflow": null,
      "overflow_x": null,
      "overflow_y": null,
      "padding": null,
      "right": null,
      "top": null,
      "visibility": null,
      "width": null
     }
    },
    "7adac365b8b941daa0c85e15c1be118f": {
     "model_module": "@jupyter-widgets/controls",
     "model_name": "DescriptionStyleModel",
     "model_module_version": "1.5.0",
     "state": {
      "_model_module": "@jupyter-widgets/controls",
      "_model_module_version": "1.5.0",
      "_model_name": "DescriptionStyleModel",
      "_view_count": null,
      "_view_module": "@jupyter-widgets/base",
      "_view_module_version": "1.2.0",
      "_view_name": "StyleView",
      "description_width": ""
     }
    },
    "cda2888b0db348a8a0147bda24d60771": {
     "model_module": "@jupyter-widgets/base",
     "model_name": "LayoutModel",
     "model_module_version": "1.2.0",
     "state": {
      "_model_module": "@jupyter-widgets/base",
      "_model_module_version": "1.2.0",
      "_model_name": "LayoutModel",
      "_view_count": null,
      "_view_module": "@jupyter-widgets/base",
      "_view_module_version": "1.2.0",
      "_view_name": "LayoutView",
      "align_content": null,
      "align_items": null,
      "align_self": null,
      "border": null,
      "bottom": null,
      "display": null,
      "flex": null,
      "flex_flow": null,
      "grid_area": null,
      "grid_auto_columns": null,
      "grid_auto_flow": null,
      "grid_auto_rows": null,
      "grid_column": null,
      "grid_gap": null,
      "grid_row": null,
      "grid_template_areas": null,
      "grid_template_columns": null,
      "grid_template_rows": null,
      "height": null,
      "justify_content": null,
      "justify_items": null,
      "left": null,
      "margin": null,
      "max_height": null,
      "max_width": null,
      "min_height": null,
      "min_width": null,
      "object_fit": null,
      "object_position": null,
      "order": null,
      "overflow": null,
      "overflow_x": null,
      "overflow_y": null,
      "padding": null,
      "right": null,
      "top": null,
      "visibility": null,
      "width": null
     }
    },
    "d88ee9020224420e9927e7730a1bba77": {
     "model_module": "@jupyter-widgets/controls",
     "model_name": "ProgressStyleModel",
     "model_module_version": "1.5.0",
     "state": {
      "_model_module": "@jupyter-widgets/controls",
      "_model_module_version": "1.5.0",
      "_model_name": "ProgressStyleModel",
      "_view_count": null,
      "_view_module": "@jupyter-widgets/base",
      "_view_module_version": "1.2.0",
      "_view_name": "StyleView",
      "bar_color": null,
      "description_width": ""
     }
    },
    "02951954848c4b899bf49d253a46e496": {
     "model_module": "@jupyter-widgets/base",
     "model_name": "LayoutModel",
     "model_module_version": "1.2.0",
     "state": {
      "_model_module": "@jupyter-widgets/base",
      "_model_module_version": "1.2.0",
      "_model_name": "LayoutModel",
      "_view_count": null,
      "_view_module": "@jupyter-widgets/base",
      "_view_module_version": "1.2.0",
      "_view_name": "LayoutView",
      "align_content": null,
      "align_items": null,
      "align_self": null,
      "border": null,
      "bottom": null,
      "display": null,
      "flex": null,
      "flex_flow": null,
      "grid_area": null,
      "grid_auto_columns": null,
      "grid_auto_flow": null,
      "grid_auto_rows": null,
      "grid_column": null,
      "grid_gap": null,
      "grid_row": null,
      "grid_template_areas": null,
      "grid_template_columns": null,
      "grid_template_rows": null,
      "height": null,
      "justify_content": null,
      "justify_items": null,
      "left": null,
      "margin": null,
      "max_height": null,
      "max_width": null,
      "min_height": null,
      "min_width": null,
      "object_fit": null,
      "object_position": null,
      "order": null,
      "overflow": null,
      "overflow_x": null,
      "overflow_y": null,
      "padding": null,
      "right": null,
      "top": null,
      "visibility": null,
      "width": null
     }
    },
    "21bf0a44e8464f94974acfd87e04ba2d": {
     "model_module": "@jupyter-widgets/controls",
     "model_name": "DescriptionStyleModel",
     "model_module_version": "1.5.0",
     "state": {
      "_model_module": "@jupyter-widgets/controls",
      "_model_module_version": "1.5.0",
      "_model_name": "DescriptionStyleModel",
      "_view_count": null,
      "_view_module": "@jupyter-widgets/base",
      "_view_module_version": "1.2.0",
      "_view_name": "StyleView",
      "description_width": ""
     }
    },
    "6d5e7912242a47e096db69daeb8d66db": {
     "model_module": "@jupyter-widgets/controls",
     "model_name": "HBoxModel",
     "model_module_version": "1.5.0",
     "state": {
      "_dom_classes": [],
      "_model_module": "@jupyter-widgets/controls",
      "_model_module_version": "1.5.0",
      "_model_name": "HBoxModel",
      "_view_count": null,
      "_view_module": "@jupyter-widgets/controls",
      "_view_module_version": "1.5.0",
      "_view_name": "HBoxView",
      "box_style": "",
      "children": [
       "IPY_MODEL_be0b49b5d50c42038df6b0578e8ce913",
       "IPY_MODEL_49a33fc7fe574873a441c0393938006d",
       "IPY_MODEL_c8f1d484b3cd4389ba72e93939e51a8c"
      ],
      "layout": "IPY_MODEL_190df023919f4168a0c54a5b800c7340"
     }
    },
    "be0b49b5d50c42038df6b0578e8ce913": {
     "model_module": "@jupyter-widgets/controls",
     "model_name": "HTMLModel",
     "model_module_version": "1.5.0",
     "state": {
      "_dom_classes": [],
      "_model_module": "@jupyter-widgets/controls",
      "_model_module_version": "1.5.0",
      "_model_name": "HTMLModel",
      "_view_count": null,
      "_view_module": "@jupyter-widgets/controls",
      "_view_module_version": "1.5.0",
      "_view_name": "HTMLView",
      "description": "",
      "description_tooltip": null,
      "layout": "IPY_MODEL_1a2adc793ce548ffb360c0989ed6ff12",
      "placeholder": "​",
      "style": "IPY_MODEL_131687c76ff94f6f88be2471e6d022a3",
      "value": "tokenizer.json: 100%"
     }
    },
    "49a33fc7fe574873a441c0393938006d": {
     "model_module": "@jupyter-widgets/controls",
     "model_name": "FloatProgressModel",
     "model_module_version": "1.5.0",
     "state": {
      "_dom_classes": [],
      "_model_module": "@jupyter-widgets/controls",
      "_model_module_version": "1.5.0",
      "_model_name": "FloatProgressModel",
      "_view_count": null,
      "_view_module": "@jupyter-widgets/controls",
      "_view_module_version": "1.5.0",
      "_view_name": "ProgressView",
      "bar_style": "success",
      "description": "",
      "description_tooltip": null,
      "layout": "IPY_MODEL_c26066872be240898cbb94bb8eb63ca0",
      "max": 466062,
      "min": 0,
      "orientation": "horizontal",
      "style": "IPY_MODEL_feb57775662e4c708e56c5bf6d807b4b",
      "value": 466062
     }
    },
    "c8f1d484b3cd4389ba72e93939e51a8c": {
     "model_module": "@jupyter-widgets/controls",
     "model_name": "HTMLModel",
     "model_module_version": "1.5.0",
     "state": {
      "_dom_classes": [],
      "_model_module": "@jupyter-widgets/controls",
      "_model_module_version": "1.5.0",
      "_model_name": "HTMLModel",
      "_view_count": null,
      "_view_module": "@jupyter-widgets/controls",
      "_view_module_version": "1.5.0",
      "_view_name": "HTMLView",
      "description": "",
      "description_tooltip": null,
      "layout": "IPY_MODEL_87c40fa1a3e049288ba06a41e8ea59c6",
      "placeholder": "​",
      "style": "IPY_MODEL_5481ad4ed0974fe7aa92f0a39caf29de",
      "value": " 466k/466k [00:00&lt;00:00, 7.49MB/s]"
     }
    },
    "190df023919f4168a0c54a5b800c7340": {
     "model_module": "@jupyter-widgets/base",
     "model_name": "LayoutModel",
     "model_module_version": "1.2.0",
     "state": {
      "_model_module": "@jupyter-widgets/base",
      "_model_module_version": "1.2.0",
      "_model_name": "LayoutModel",
      "_view_count": null,
      "_view_module": "@jupyter-widgets/base",
      "_view_module_version": "1.2.0",
      "_view_name": "LayoutView",
      "align_content": null,
      "align_items": null,
      "align_self": null,
      "border": null,
      "bottom": null,
      "display": null,
      "flex": null,
      "flex_flow": null,
      "grid_area": null,
      "grid_auto_columns": null,
      "grid_auto_flow": null,
      "grid_auto_rows": null,
      "grid_column": null,
      "grid_gap": null,
      "grid_row": null,
      "grid_template_areas": null,
      "grid_template_columns": null,
      "grid_template_rows": null,
      "height": null,
      "justify_content": null,
      "justify_items": null,
      "left": null,
      "margin": null,
      "max_height": null,
      "max_width": null,
      "min_height": null,
      "min_width": null,
      "object_fit": null,
      "object_position": null,
      "order": null,
      "overflow": null,
      "overflow_x": null,
      "overflow_y": null,
      "padding": null,
      "right": null,
      "top": null,
      "visibility": null,
      "width": null
     }
    },
    "1a2adc793ce548ffb360c0989ed6ff12": {
     "model_module": "@jupyter-widgets/base",
     "model_name": "LayoutModel",
     "model_module_version": "1.2.0",
     "state": {
      "_model_module": "@jupyter-widgets/base",
      "_model_module_version": "1.2.0",
      "_model_name": "LayoutModel",
      "_view_count": null,
      "_view_module": "@jupyter-widgets/base",
      "_view_module_version": "1.2.0",
      "_view_name": "LayoutView",
      "align_content": null,
      "align_items": null,
      "align_self": null,
      "border": null,
      "bottom": null,
      "display": null,
      "flex": null,
      "flex_flow": null,
      "grid_area": null,
      "grid_auto_columns": null,
      "grid_auto_flow": null,
      "grid_auto_rows": null,
      "grid_column": null,
      "grid_gap": null,
      "grid_row": null,
      "grid_template_areas": null,
      "grid_template_columns": null,
      "grid_template_rows": null,
      "height": null,
      "justify_content": null,
      "justify_items": null,
      "left": null,
      "margin": null,
      "max_height": null,
      "max_width": null,
      "min_height": null,
      "min_width": null,
      "object_fit": null,
      "object_position": null,
      "order": null,
      "overflow": null,
      "overflow_x": null,
      "overflow_y": null,
      "padding": null,
      "right": null,
      "top": null,
      "visibility": null,
      "width": null
     }
    },
    "131687c76ff94f6f88be2471e6d022a3": {
     "model_module": "@jupyter-widgets/controls",
     "model_name": "DescriptionStyleModel",
     "model_module_version": "1.5.0",
     "state": {
      "_model_module": "@jupyter-widgets/controls",
      "_model_module_version": "1.5.0",
      "_model_name": "DescriptionStyleModel",
      "_view_count": null,
      "_view_module": "@jupyter-widgets/base",
      "_view_module_version": "1.2.0",
      "_view_name": "StyleView",
      "description_width": ""
     }
    },
    "c26066872be240898cbb94bb8eb63ca0": {
     "model_module": "@jupyter-widgets/base",
     "model_name": "LayoutModel",
     "model_module_version": "1.2.0",
     "state": {
      "_model_module": "@jupyter-widgets/base",
      "_model_module_version": "1.2.0",
      "_model_name": "LayoutModel",
      "_view_count": null,
      "_view_module": "@jupyter-widgets/base",
      "_view_module_version": "1.2.0",
      "_view_name": "LayoutView",
      "align_content": null,
      "align_items": null,
      "align_self": null,
      "border": null,
      "bottom": null,
      "display": null,
      "flex": null,
      "flex_flow": null,
      "grid_area": null,
      "grid_auto_columns": null,
      "grid_auto_flow": null,
      "grid_auto_rows": null,
      "grid_column": null,
      "grid_gap": null,
      "grid_row": null,
      "grid_template_areas": null,
      "grid_template_columns": null,
      "grid_template_rows": null,
      "height": null,
      "justify_content": null,
      "justify_items": null,
      "left": null,
      "margin": null,
      "max_height": null,
      "max_width": null,
      "min_height": null,
      "min_width": null,
      "object_fit": null,
      "object_position": null,
      "order": null,
      "overflow": null,
      "overflow_x": null,
      "overflow_y": null,
      "padding": null,
      "right": null,
      "top": null,
      "visibility": null,
      "width": null
     }
    },
    "feb57775662e4c708e56c5bf6d807b4b": {
     "model_module": "@jupyter-widgets/controls",
     "model_name": "ProgressStyleModel",
     "model_module_version": "1.5.0",
     "state": {
      "_model_module": "@jupyter-widgets/controls",
      "_model_module_version": "1.5.0",
      "_model_name": "ProgressStyleModel",
      "_view_count": null,
      "_view_module": "@jupyter-widgets/base",
      "_view_module_version": "1.2.0",
      "_view_name": "StyleView",
      "bar_color": null,
      "description_width": ""
     }
    },
    "87c40fa1a3e049288ba06a41e8ea59c6": {
     "model_module": "@jupyter-widgets/base",
     "model_name": "LayoutModel",
     "model_module_version": "1.2.0",
     "state": {
      "_model_module": "@jupyter-widgets/base",
      "_model_module_version": "1.2.0",
      "_model_name": "LayoutModel",
      "_view_count": null,
      "_view_module": "@jupyter-widgets/base",
      "_view_module_version": "1.2.0",
      "_view_name": "LayoutView",
      "align_content": null,
      "align_items": null,
      "align_self": null,
      "border": null,
      "bottom": null,
      "display": null,
      "flex": null,
      "flex_flow": null,
      "grid_area": null,
      "grid_auto_columns": null,
      "grid_auto_flow": null,
      "grid_auto_rows": null,
      "grid_column": null,
      "grid_gap": null,
      "grid_row": null,
      "grid_template_areas": null,
      "grid_template_columns": null,
      "grid_template_rows": null,
      "height": null,
      "justify_content": null,
      "justify_items": null,
      "left": null,
      "margin": null,
      "max_height": null,
      "max_width": null,
      "min_height": null,
      "min_width": null,
      "object_fit": null,
      "object_position": null,
      "order": null,
      "overflow": null,
      "overflow_x": null,
      "overflow_y": null,
      "padding": null,
      "right": null,
      "top": null,
      "visibility": null,
      "width": null
     }
    },
    "5481ad4ed0974fe7aa92f0a39caf29de": {
     "model_module": "@jupyter-widgets/controls",
     "model_name": "DescriptionStyleModel",
     "model_module_version": "1.5.0",
     "state": {
      "_model_module": "@jupyter-widgets/controls",
      "_model_module_version": "1.5.0",
      "_model_name": "DescriptionStyleModel",
      "_view_count": null,
      "_view_module": "@jupyter-widgets/base",
      "_view_module_version": "1.2.0",
      "_view_name": "StyleView",
      "description_width": ""
     }
    }
   }
  }
 },
 "cells": [
  {
   "cell_type": "markdown",
   "source": [
    "# **Supervised Text Classification for Marketing Analytics Final Project**\n",
    "\n",
    "## _Development of a Deep Learning Model for Identifying Health and Wellness News_\n",
    "\n",
    "\n"
   ],
   "metadata": {
    "id": "wv2_pwkaee59"
   }
  },
  {
   "cell_type": "markdown",
   "source": [
    "### **1. Introduction**\n",
    "\n",
    "In the current landscape of digital advertising, contextual advertising plays a fundamental role by allowing advertisers to position their ads on web pages relevant to their target audience. Chrishare, a media buying company, has received a request from its client, Theragun, to develop a deep learning model capable of automatically identifying news related to health and wellness. This project aims to create a classifier using ktrain, an interface for TensorFlow, Keras, and Huggingface Transformers, to optimize ad targeting.\n",
    "\n"
   ],
   "metadata": {
    "id": "u1kJIWsQoO0H"
   }
  },
  {
   "cell_type": "markdown",
   "source": [
    "### **2. Dataset**\n",
    "\n",
    "The dataset used in this study was obtained from HuffPost and consists of approximately 200,000 news headlines from 2012 to 2018, categorized into different topics. The most relevant categories for this study include:\n",
    "\n",
    "* WELLNESS (17,827 headlines)\n",
    "\n",
    "* HEALTHY LIVING (6,694 headlines)\n",
    "\n",
    "The goal is to train a model that correctly classifies headlines belonging to these categories, thereby enabling the effective segmentation of content for Theragun’s ad placements."
   ],
   "metadata": {
    "id": "6upHmPhAoWeE"
   }
  },
  {
   "cell_type": "code",
   "source": [
    "# LIBRARIES\n",
    "import time\n",
    "import os\n",
    "\n",
    "# Set TensorFlow environment variables to use legacy Keras API\n",
    "os.environ[\"TF_USE_LEGACY_KERAS\"] = \"1\"\n",
    "os.environ[\"TOKENIZERS_PARALLELISM\"] = \"false\"\n",
    "\n",
    "\n",
    "# Start time\n",
    "start_time = time.time()\n",
    "\n",
    "# Try importing ktrain; install dependencies if missing\n",
    "try:\n",
    "    import ktrain\n",
    "    from ktrain import text\n",
    "except:\n",
    "    # Install necessary libraries if not already installed\n",
    "    !pip install tf_keras\n",
    "    !pip install ktrain --upgrade\n",
    "    !pip3 install -q git+https://github.com/amaiya/eli5@tfkeras_0_10_1\n",
    "\n",
    "# Set CUDA settings for GPU usage\n",
    "os.environ[\"CUDA_DEVICE_ORDER\"] = \"PCI_BUS_ID\"\n",
    "os.environ[\"CUDA_VISIBLE_DEVICES\"] = \"0\"\n",
    "\n",
    "# Import required libraries\n",
    "import gdown\n",
    "import json\n",
    "import pandas as pd\n",
    "import matplotlib.pyplot as plt\n",
    "from IPython.display import clear_output\n",
    "import tensorflow as tf\n",
    "import ktrain\n",
    "from ktrain import text\n",
    "import numpy as np\n",
    "import random\n",
    "import warnings\n",
    "from sklearn.model_selection import train_test_split\n",
    "from sklearn.utils import resample\n",
    "\n",
    "\n",
    "# Ignore specific warnings\n",
    "warnings.filterwarnings(\"ignore\", category=UserWarning)\n",
    "\n",
    "# General Configuration\n",
    "class Config:\n",
    "    MAXLEN = 500\n",
    "    SEED = 42\n",
    "    CATEGORIES = ['WELLNESS', 'HEALTHY LIVING']\n",
    "    MODEL_NAME = 'distilbert-base-uncased'\n",
    "    EPOCHS = 4\n",
    "    BATCH_SIZE = 6\n",
    "\n",
    "# Set seed for reproducibility\n",
    "tf.keras.utils.set_random_seed(Config.SEED)\n",
    "np.random.seed(Config.SEED)\n",
    "random.seed(Config.SEED)\n",
    "\n",
    "# Google Drive file ID\n",
    "file_id = \"1snUBKqjMfN5E695jWyaCc_yuEh5cQ3rY\"\n",
    "\n",
    "# Construct direct download URL\n",
    "url = f\"https://drive.google.com/uc?id={file_id}\"\n",
    "\n",
    "# Temporary local filename\n",
    "output = \"data.json\"\n",
    "\n",
    "# Download the file\n",
    "gdown.download(url, output, quiet=False)\n",
    "\n",
    "# Open and load JSON data\n",
    "with open(output, \"r\", encoding=\"utf-8\") as f:\n",
    "    json_data = json.load(f)\n",
    "\n",
    "# Convert JSON data to DataFrame\n",
    "if isinstance(json_data, list):  # If JSON contains a list of records\n",
    "    data = pd.DataFrame(json_data)\n",
    "elif isinstance(json_data, dict):  # If JSON contains a dictionary\n",
    "    data = pd.DataFrame.from_dict(json_data, orient=\"index\")\n",
    "else:\n",
    "    raise ValueError(\"Unsupported JSON format for DataFrame conversion.\")\n",
    "\n",
    "# Transpose data to fix structure if needed\n",
    "data = data.T\n",
    "\n",
    "# Convert 'date' column to datetime format\n",
    "data['date'] = pd.to_datetime(data['date'])\n",
    "\n",
    "# Filter data based on selected categories\n",
    "categories = Config.CATEGORIES\n",
    "data = data[data['category'].isin(categories)]\n",
    "\n",
    "# Drop unnecessary columns\n",
    "data = data.drop(columns=['link'])\n",
    "\n",
    "# Reset DataFrame index\n",
    "data.reset_index(drop=True, inplace=True)\n",
    "\n",
    "# Clear output for cleaner display\n",
    "clear_output(wait=True)\n"
   ],
   "metadata": {
    "colab": {
     "base_uri": "https://localhost:8080/",
     "height": 206
    },
    "id": "hqC5zDuefwOP",
    "outputId": "ff6e5989-b7cc-479f-b430-93eaac0e0b4a"
   },
   "execution_count": 22,
   "outputs": []
  },
  {
   "metadata": {
    "ExecuteTime": {
     "end_time": "2025-03-25T08:51:01.964741Z",
     "start_time": "2025-03-25T08:51:01.953563Z"
    }
   },
   "cell_type": "code",
   "source": [
    "# Display first few rows of the dataset\n",
    "data.head()"
   ],
   "outputs": [
    {
     "data": {
      "text/plain": [
       "         category                                           headline  \\\n",
       "0  HEALTHY LIVING  To The People Who Say ‘I’m Tired’ When Someone...   \n",
       "1  HEALTHY LIVING  Eating Shake Shack Made Me Feel Healthier Than...   \n",
       "2  HEALTHY LIVING  How To Stay Updated On The News Without Losing...   \n",
       "3  HEALTHY LIVING  27 Perfect Tweets About Whole30 That Will Make...   \n",
       "4  HEALTHY LIVING         The Real Reason Your Hands Are Always Cold   \n",
       "\n",
       "                                             authors  \\\n",
       "0  The Mighty, ContributorWe face disability, dis...   \n",
       "1  Colleen Werner, ContributorCampus Editor-at-Large   \n",
       "2                                     Lindsay Holmes   \n",
       "3                                     Lindsay Holmes   \n",
       "4  Refinery29, ContributorThe #1 new-media brand ...   \n",
       "\n",
       "                                   short_description       date  \n",
       "0  When you feel like this, it’s important to kno... 2018-01-16  \n",
       "1  I can vividly remember the first time I felt f... 2018-01-12  \n",
       "2     Because it's only becoming more of a struggle. 2018-01-12  \n",
       "3  \"The only Whole30 I want to participate in is ... 2018-01-10  \n",
       "4  Essentially, your hands are kept warm thanks t... 2018-01-10  "
      ],
      "text/html": [
       "<div>\n",
       "<style scoped>\n",
       "    .dataframe tbody tr th:only-of-type {\n",
       "        vertical-align: middle;\n",
       "    }\n",
       "\n",
       "    .dataframe tbody tr th {\n",
       "        vertical-align: top;\n",
       "    }\n",
       "\n",
       "    .dataframe thead th {\n",
       "        text-align: right;\n",
       "    }\n",
       "</style>\n",
       "<table border=\"1\" class=\"dataframe\">\n",
       "  <thead>\n",
       "    <tr style=\"text-align: right;\">\n",
       "      <th></th>\n",
       "      <th>category</th>\n",
       "      <th>headline</th>\n",
       "      <th>authors</th>\n",
       "      <th>short_description</th>\n",
       "      <th>date</th>\n",
       "    </tr>\n",
       "  </thead>\n",
       "  <tbody>\n",
       "    <tr>\n",
       "      <th>0</th>\n",
       "      <td>HEALTHY LIVING</td>\n",
       "      <td>To The People Who Say ‘I’m Tired’ When Someone...</td>\n",
       "      <td>The Mighty, ContributorWe face disability, dis...</td>\n",
       "      <td>When you feel like this, it’s important to kno...</td>\n",
       "      <td>2018-01-16</td>\n",
       "    </tr>\n",
       "    <tr>\n",
       "      <th>1</th>\n",
       "      <td>HEALTHY LIVING</td>\n",
       "      <td>Eating Shake Shack Made Me Feel Healthier Than...</td>\n",
       "      <td>Colleen Werner, ContributorCampus Editor-at-Large</td>\n",
       "      <td>I can vividly remember the first time I felt f...</td>\n",
       "      <td>2018-01-12</td>\n",
       "    </tr>\n",
       "    <tr>\n",
       "      <th>2</th>\n",
       "      <td>HEALTHY LIVING</td>\n",
       "      <td>How To Stay Updated On The News Without Losing...</td>\n",
       "      <td>Lindsay Holmes</td>\n",
       "      <td>Because it's only becoming more of a struggle.</td>\n",
       "      <td>2018-01-12</td>\n",
       "    </tr>\n",
       "    <tr>\n",
       "      <th>3</th>\n",
       "      <td>HEALTHY LIVING</td>\n",
       "      <td>27 Perfect Tweets About Whole30 That Will Make...</td>\n",
       "      <td>Lindsay Holmes</td>\n",
       "      <td>\"The only Whole30 I want to participate in is ...</td>\n",
       "      <td>2018-01-10</td>\n",
       "    </tr>\n",
       "    <tr>\n",
       "      <th>4</th>\n",
       "      <td>HEALTHY LIVING</td>\n",
       "      <td>The Real Reason Your Hands Are Always Cold</td>\n",
       "      <td>Refinery29, ContributorThe #1 new-media brand ...</td>\n",
       "      <td>Essentially, your hands are kept warm thanks t...</td>\n",
       "      <td>2018-01-10</td>\n",
       "    </tr>\n",
       "  </tbody>\n",
       "</table>\n",
       "</div>"
      ]
     },
     "execution_count": 24,
     "metadata": {},
     "output_type": "execute_result"
    }
   ],
   "execution_count": 24
  },
  {
   "cell_type": "code",
   "source": [
    "# Calculate the percentage of each category\n",
    "category_counts = data[\"category\"].value_counts()\n",
    "category_percent = (category_counts / category_counts.sum()) * 100\n",
    "\n",
    "# Create a pie chart\n",
    "plt.figure(figsize=(12, 6))\n",
    "category_percent.plot(kind=\"pie\", autopct=\"%.1f%%\", startangle=90, wedgeprops={'edgecolor': 'black'})\n",
    "\n",
    "# Set title and formatting\n",
    "plt.title(\"Percentage Distribution of Categories\", fontweight=\"bold\")\n",
    "plt.ylabel(\"\")  # Remove y-axis label for better visualization\n",
    "\n",
    "# Display the chart\n",
    "plt.show()"
   ],
   "metadata": {
    "colab": {
     "base_uri": "https://localhost:8080/",
     "height": 521
    },
    "id": "Mdpda-9bvGU3",
    "outputId": "25728cb9-36b4-497c-96b9-9a73e3df4932",
    "ExecuteTime": {
     "end_time": "2025-03-24T11:36:29.433114Z",
     "start_time": "2025-03-24T11:36:29.357138Z"
    }
   },
   "outputs": [
    {
     "data": {
      "text/plain": [
       "<Figure size 1200x600 with 1 Axes>"
      ],
      "image/png": "[encoded data removed]"
     },
     "metadata": {},
     "output_type": "display_data"
    }
   ],
   "execution_count": 4
  },
  {
   "cell_type": "code",
   "source": [
    "data[\"category\"].value_counts()"
   ],
   "metadata": {
    "colab": {
     "base_uri": "https://localhost:8080/",
     "height": 178
    },
    "id": "pWlvZ3u3wt5m",
    "outputId": "26b567cd-a4e2-45c5-842a-334a0451110f",
    "ExecuteTime": {
     "end_time": "2025-03-24T11:36:29.467412Z",
     "start_time": "2025-03-24T11:36:29.455758Z"
    }
   },
   "outputs": [
    {
     "data": {
      "text/plain": [
       "category\n",
       "WELLNESS          17827\n",
       "HEALTHY LIVING     6694\n",
       "Name: count, dtype: int64"
      ]
     },
     "execution_count": 5,
     "metadata": {},
     "output_type": "execute_result"
    }
   ],
   "execution_count": 5
  },
  {
   "cell_type": "code",
   "source": [
    "# Count occurrences of each category\n",
    "category_counts = data[\"category\"].value_counts()\n",
    "\n",
    "# Compute the imbalance ratio between the most and least frequent categories\n",
    "imbalance_ratio = category_counts.max() / category_counts.min()\n",
    "\n",
    "# Display the imbalance ratio\n",
    "print(f\"Imbalance ratio (max/min): {imbalance_ratio:.2f}\")"
   ],
   "metadata": {
    "colab": {
     "base_uri": "https://localhost:8080/"
    },
    "id": "kYHkDFHEv5R2",
    "outputId": "4fe47d07-1bb1-4d5b-a042-bd255aaacd10",
    "ExecuteTime": {
     "end_time": "2025-03-24T11:36:29.541371Z",
     "start_time": "2025-03-24T11:36:29.534707Z"
    }
   },
   "outputs": [
    {
     "name": "stdout",
     "output_type": "stream",
     "text": [
      "Imbalance ratio (max/min): 2.66\n"
     ]
    }
   ],
   "execution_count": 6
  },
  {
   "cell_type": "markdown",
   "source": [
    "An imbalance ratio of **2.66** means that the most frequent category has **2.66 times** more instances than the least frequent one. This level of imbalance is not extreme, but it may still be relevant depending on the context of your problem.  \n",
    "\n",
    "Since we are dealing with a **supervised classification** task, addressing this imbalance might be necessary to prevent the model from favoring the majority class."
   ],
   "metadata": {
    "id": "44ioweKrvkXm"
   }
  },
  {
   "cell_type": "markdown",
   "source": [
    "## **3. Metodology**\n",
    "\n"
   ],
   "metadata": {
    "id": "zYCY6lgFmZgJ"
   }
  },
  {
   "cell_type": "markdown",
   "source": [
    "### **3.1 Data Processing**\n",
    "\n"
   ],
   "metadata": {
    "id": "4qkduCXZm8Vh"
   }
  },
  {
   "cell_type": "code",
   "source": [
    "data['text'] = data['headline'] + ' ' + data['short_description']\n",
    "data = data[['text', 'category']]\n"
   ],
   "metadata": {
    "id": "WdYVxpLkm538",
    "ExecuteTime": {
     "end_time": "2025-03-24T11:36:29.585103Z",
     "start_time": "2025-03-24T11:36:29.570595Z"
    }
   },
   "outputs": [],
   "execution_count": 7
  },
  {
   "cell_type": "code",
   "source": [
    "data.head()"
   ],
   "metadata": {
    "colab": {
     "base_uri": "https://localhost:8080/",
     "height": 206
    },
    "id": "wZRlfR_YBTHg",
    "outputId": "480ee2c5-823c-45aa-8829-ef2053472b1f",
    "ExecuteTime": {
     "end_time": "2025-03-24T11:36:29.638393Z",
     "start_time": "2025-03-24T11:36:29.630650Z"
    }
   },
   "outputs": [
    {
     "data": {
      "text/plain": [
       "                                                text        category\n",
       "0  To The People Who Say ‘I’m Tired’ When Someone...  HEALTHY LIVING\n",
       "1  Eating Shake Shack Made Me Feel Healthier Than...  HEALTHY LIVING\n",
       "2  How To Stay Updated On The News Without Losing...  HEALTHY LIVING\n",
       "3  27 Perfect Tweets About Whole30 That Will Make...  HEALTHY LIVING\n",
       "4  The Real Reason Your Hands Are Always Cold Ess...  HEALTHY LIVING"
      ],
      "text/html": [
       "<div>\n",
       "<style scoped>\n",
       "    .dataframe tbody tr th:only-of-type {\n",
       "        vertical-align: middle;\n",
       "    }\n",
       "\n",
       "    .dataframe tbody tr th {\n",
       "        vertical-align: top;\n",
       "    }\n",
       "\n",
       "    .dataframe thead th {\n",
       "        text-align: right;\n",
       "    }\n",
       "</style>\n",
       "<table border=\"1\" class=\"dataframe\">\n",
       "  <thead>\n",
       "    <tr style=\"text-align: right;\">\n",
       "      <th></th>\n",
       "      <th>text</th>\n",
       "      <th>category</th>\n",
       "    </tr>\n",
       "  </thead>\n",
       "  <tbody>\n",
       "    <tr>\n",
       "      <th>0</th>\n",
       "      <td>To The People Who Say ‘I’m Tired’ When Someone...</td>\n",
       "      <td>HEALTHY LIVING</td>\n",
       "    </tr>\n",
       "    <tr>\n",
       "      <th>1</th>\n",
       "      <td>Eating Shake Shack Made Me Feel Healthier Than...</td>\n",
       "      <td>HEALTHY LIVING</td>\n",
       "    </tr>\n",
       "    <tr>\n",
       "      <th>2</th>\n",
       "      <td>How To Stay Updated On The News Without Losing...</td>\n",
       "      <td>HEALTHY LIVING</td>\n",
       "    </tr>\n",
       "    <tr>\n",
       "      <th>3</th>\n",
       "      <td>27 Perfect Tweets About Whole30 That Will Make...</td>\n",
       "      <td>HEALTHY LIVING</td>\n",
       "    </tr>\n",
       "    <tr>\n",
       "      <th>4</th>\n",
       "      <td>The Real Reason Your Hands Are Always Cold Ess...</td>\n",
       "      <td>HEALTHY LIVING</td>\n",
       "    </tr>\n",
       "  </tbody>\n",
       "</table>\n",
       "</div>"
      ]
     },
     "execution_count": 8,
     "metadata": {},
     "output_type": "execute_result"
    }
   ],
   "execution_count": 8
  },
  {
   "cell_type": "code",
   "source": [
    "# Separate \"text\" and Labels\n",
    "text_data = data['text']\n",
    "labels = data['category']\n",
    "\n",
    "# Split into training and testing sets\n",
    "X_train, X_test, y_train, y_test = train_test_split(text_data, labels, test_size=0.20, random_state=Config.SEED)\n",
    "\n",
    "# Create a DataFrame with training data\n",
    "df = pd.DataFrame({'text': X_train, 'category': y_train})\n",
    "\n",
    "# Separate classes\n",
    "df_majority = df[df['category'] == Config.CATEGORIES[0]]\n",
    "df_minority = df[df['category'] == Config.CATEGORIES[1]]\n",
    "\n",
    "# Upsample the minority class\n",
    "df_minority_upsampled = resample(df_minority,\n",
    "                                 replace=True,  # Sample with replacement\n",
    "                                 n_samples=len(df_majority),  # Match majority class size\n",
    "                                 random_state=42)  # Ensure reproducibility\n",
    "\n",
    "# Combine majority class with upsampled minority class\n",
    "df_upsampled = pd.concat([df_majority, df_minority_upsampled])\n",
    "\n",
    "# Compute class distribution\n",
    "category_counts = df_upsampled[\"category\"].value_counts()\n",
    "category_percent = (category_counts / category_counts.sum()) * 100\n",
    "\n",
    "# Plot class distribution\n",
    "plt.figure(figsize=(12, 6))\n",
    "category_percent.plot(kind=\"pie\", autopct='%1.1f%%', startangle=90)\n",
    "plt.title(\"Percentage Distribution of Categories\",fontweight=\"bold\")\n",
    "plt.ylabel(\"\")\n",
    "plt.show()\n"
   ],
   "metadata": {
    "colab": {
     "base_uri": "https://localhost:8080/",
     "height": 521
    },
    "id": "SQm03sENQJEw",
    "outputId": "91e93594-deb2-4517-8bbd-9735bb5d490f",
    "ExecuteTime": {
     "end_time": "2025-03-24T11:36:29.785478Z",
     "start_time": "2025-03-24T11:36:29.706523Z"
    }
   },
   "outputs": [
    {
     "data": {
      "text/plain": [
       "<Figure size 1200x600 with 1 Axes>"
      ],
      "image/png": "[encoded data removed]"
     },
     "metadata": {},
     "output_type": "display_data"
    }
   ],
   "execution_count": 9
  },
  {
   "cell_type": "markdown",
   "source": [
    "Now, the dataset is balanced, meaning that the categories `WELLNESS` and `HEALTHY LIVING` have the same number of examples in the training set. This was achieved using a technique called **upsampling**, where the minority class (`WELLNESS`) was increased by randomly replicating its examples until both classes had an equal number of records. This balancing process is crucial to prevent the machine learning model from learning biased patterns that favor the originally more represented class. As a result, the model will perform more fairly and reliably when classifying new texts."
   ],
   "metadata": {
    "id": "PUcrgZsCSHYs"
   }
  },
  {
   "cell_type": "markdown",
   "source": [
    "### **3.2 Machine Learning Model**"
   ],
   "metadata": {
    "id": "uew6ivJJSw8-"
   }
  },
  {
   "cell_type": "code",
   "source": [
    "# Processing text from DataFrame\n",
    "(x_train, y_train), (x_test, y_test), preproc = text.texts_from_df(\n",
    "    train_df=df_upsampled,  # Input DataFrame\n",
    "    text_column='text',  # Column containing text data\n",
    "    label_columns='category',  # Column containing labels\n",
    "    maxlen=Config.MAXLEN,  # Maximum sequence length\n",
    "    preprocess_mode='bert',  # Preprocessing mode using BERT\n",
    ")\n",
    "\n",
    "# Creating a BERT text classifier model\n",
    "model = text.text_classifier(\n",
    "    name='bert',  # Model type\n",
    "    train_data=(x_train, y_train),  # Training data\n",
    "    preproc=preproc,  # Preprocessing object\n",
    ")\n",
    "\n",
    "# Initializing the learner\n",
    "learner = ktrain.get_learner(\n",
    "    model=model,  # The classifier model\n",
    "    train_data=(x_train, y_train),  # Training dataset\n",
    "    val_data=(x_test, y_test),  # Validation dataset\n",
    "    batch_size=Config.BATCH_SIZE,  # Batch size for training\n",
    ")\n",
    "\n",
    "# Clear previous outputs\n",
    "clear_output()\n",
    "\n",
    "# Print confirmation message\n",
    "print('Model Loaded!')"
   ],
   "metadata": {
    "id": "QnJ1uxl9SwMB",
    "colab": {
     "base_uri": "https://localhost:8080/",
     "height": 573
    },
    "outputId": "b8398d11-895e-4759-a550-f37310579870"
   },
   "execution_count": 10,
   "outputs": [
    {
     "name": "stdout",
     "output_type": "stream",
     "text": [
      "Model Loaded!\n"
     ]
    }
   ]
  },
  {
   "cell_type": "code",
   "source": [
    "# Perform a learning rate range test\n",
    "learner.lr_find(show_plot=True)"
   ],
   "metadata": {
    "colab": {
     "base_uri": "https://localhost:8080/",
     "height": 576
    },
    "id": "WT4rDxlf9Ozj",
    "outputId": "70550e53-20f3-4c1e-915d-78addba2dcfe",
    "ExecuteTime": {
     "end_time": "2025-03-24T14:05:11.317432Z",
     "start_time": "2025-03-24T11:37:12.127437Z"
    }
   },
   "outputs": [
    {
     "name": "stdout",
     "output_type": "stream",
     "text": [
      "simulating training for different learning rates... this may take a few moments...\n",
      "Epoch 1/1024\n",
      "4289/4289 [==============================] - 8871s 2s/step - loss: 3.5535 - accuracy: 0.5663\n",
      "\n",
      "\n",
      "done.\n",
      "Visually inspect loss plot and select learning rate associated with falling loss\n"
     ]
    },
    {
     "data": {
      "text/plain": [
       "<Figure size 640x480 with 1 Axes>"
      ],
      "image/png": "[encoded data removed]"
     },
     "metadata": {},
     "output_type": "display_data"
    }
   ],
   "execution_count": 11
  },
  {
   "cell_type": "markdown",
   "source": [
    "In this approach, we observed that the model's accuracy is very low, around **55% (0.55)**. Even with some adjustments and optimizations, it would be difficult to exceed **70% (0.7)**, resulting in a model with unsatisfactory performance for the text classification task.\n",
    "\n",
    "Given this scenario, a more effective alternative is to use **Transformer models**, which are advanced neural networks capable of better capturing word patterns and context. These models are widely used in **Natural Language Processing (NLP)** tasks due to their deep learning capabilities.\n",
    "\n",
    "To begin, we have chosen the **\"distilbert-base-uncased\"** model, an optimized version of **BERT (Bidirectional Encoder Representations from Transformers)**, which maintains a good balance between performance and computational efficiency. We will use this model to train our dataset and assess whether we can achieve a significant improvement in classification accuracy."
   ],
   "metadata": {
    "id": "BfDpMO1Hx__P"
   }
  },
  {
   "cell_type": "markdown",
   "source": [
    "### **3.2.1 Using Transformers Model**"
   ],
   "metadata": {
    "id": "-OXxeczfIMzq"
   }
  },
  {
   "cell_type": "markdown",
   "source": [
    "#### **3.2.1.1 Load Data**"
   ],
   "metadata": {
    "id": "sAT7LHrwdZ4u"
   }
  },
  {
   "cell_type": "code",
   "source": [
    "# Separate text and labels\n",
    "text_data = data['text']\n",
    "labels = data['category']\n",
    "\n",
    "# Split data into training and testing sets (80% train, 20% test)\n",
    "X_train, X_test, y_train, y_test = train_test_split(\n",
    "    text_data, labels, test_size=0.20, random_state=Config.SEED\n",
    ")\n",
    "\n",
    "# Create a DataFrame with the training data\n",
    "df = pd.DataFrame({'text': X_train, 'category': y_train})\n",
    "\n",
    "print(f\"Sizing of training set: {len(X_train):,}\")\n",
    "print(f\"Sizing of validation set: {len(X_test):,}\")\n",
    "print(\"Categories:\", \", \".join(labels.unique()))"
   ],
   "metadata": {
    "id": "tXxKRmF3JUd-",
    "colab": {
     "base_uri": "https://localhost:8080/"
    },
    "outputId": "7b536ff4-b81f-45cc-fee1-eccb64998e01",
    "ExecuteTime": {
     "end_time": "2025-03-24T14:05:11.552635Z",
     "start_time": "2025-03-24T14:05:11.478243Z"
    }
   },
   "outputs": [
    {
     "name": "stdout",
     "output_type": "stream",
     "text": [
      "Sizing of training set: 19,616\n",
      "Sizing of validation set: 4,905\n",
      "Categories: HEALTHY LIVING, WELLNESS\n"
     ]
    }
   ],
   "execution_count": 12
  },
  {
   "cell_type": "markdown",
   "source": [
    "#### 3.2.1.2 **Preprocess Data and Build a Transformer Model**"
   ],
   "metadata": {
    "id": "j-GTPSX4diA5"
   }
  },
  {
   "cell_type": "code",
   "source": [
    "# Initialize a Transformer model with specified parameters\n",
    "t = text.Transformer(Config.MODEL_NAME, maxlen=Config.MAXLEN, class_names=Config.CATEGORIES)\n",
    "\n",
    "# Preprocess training data for the Transformer model\n",
    "train_data = t.preprocess_train(X_train.to_list(), y_train.to_list())\n",
    "\n",
    "# Preprocess validation (test) data for evaluation\n",
    "val_data = t.preprocess_test(X_test.to_list(), y_test.to_list())\n",
    "\n",
    "# Retrieve the classifier model based on the Transformer\n",
    "model = t.get_classifier()\n",
    "\n",
    "# Create a learner object for training and evaluation\n",
    "learner = ktrain.get_learner(model, train_data=train_data, val_data=val_data, batch_size=Config.BATCH_SIZE)"
   ],
   "metadata": {
    "colab": {
     "base_uri": "https://localhost:8080/",
     "height": 403,
     "referenced_widgets": [
      "2700e9e26d874e2ebd8b92ceb06cc000",
      "5fb4f7e25f314abd9fd86ca8a641c7dd",
      "b22175d57ed64908a6bfff7cd22bdab4",
      "2edd3be06d96448ca67e2f4131b020de",
      "c4ce646f23c8405cbe1fdf7311fbd846",
      "d7f53cb4670948f58dc23d13916dce0c",
      "c98244e5f19141888dd5121c5a3f00e8",
      "1f540d91d7644c31ac07fd3f599e6cbd",
      "0d7842a00f9b4547a33dd2a88f3b575b",
      "fe661c56dbc142adac9886589ae89d05",
      "70eb23f22c6c4206a2a9b9df88c38911",
      "35eaa008500c460a82d14a0710b1bcc4",
      "96d4d96efb6a42edb106f090148a24a5",
      "5f1d4a9c960c4e5989220a808a9cb40d",
      "907f588f948d4d77bee51b97a864cbda",
      "2c13b6183bc04526919dec83d59d3ad4",
      "6187df8eabe3425bb0486da557186716",
      "b9983b9396254ba6ba6b7ea96955ea36",
      "d039c148fc924e13824b40490cd1a56a",
      "6f891ee8462640febf79bfce966e7729",
      "47f75d95f0d649fc853df9435dfd1ebb",
      "4604364ffb654839840e44e81e9ec23d",
      "93df7b0ed42e498db50ce084ae466a79",
      "86beb01d27864329b5c4875f2ea4ce0f",
      "a784eedac0664de7803b2d1e0f4fc02a",
      "55ee8376d73d49e7ba5226422e04ce55",
      "dd6fcca60d554e5eb8c9a654e2f0511e",
      "b1c6fdaffb5c4e5dbf5f27f62495858f",
      "fcb58fe22a084282b79dc4375e3a8e9f",
      "8d1fa6b858df487b88598c089756ce40",
      "2113b5fc235b449d8ccdc3c44d378563",
      "da5babdb858e4f688818f2db140e61cc",
      "8b5e6577a6c248f0a999e68d5ffb8cf9",
      "3eda7e091a704d728126b0a4fe1b6b9f",
      "1a10ff3035664e2b8991de64d63db43d",
      "c2161c1358c34af9b070282872286b2d",
      "4c4f755dabc0424d80c3ebc4fd7281dc",
      "18e20761da1c419a92c7f461625e9ccc",
      "40ee642a720945db9d71a0eafdab1052",
      "7adac365b8b941daa0c85e15c1be118f",
      "cda2888b0db348a8a0147bda24d60771",
      "d88ee9020224420e9927e7730a1bba77",
      "02951954848c4b899bf49d253a46e496",
      "21bf0a44e8464f94974acfd87e04ba2d",
      "6d5e7912242a47e096db69daeb8d66db",
      "be0b49b5d50c42038df6b0578e8ce913",
      "49a33fc7fe574873a441c0393938006d",
      "c8f1d484b3cd4389ba72e93939e51a8c",
      "190df023919f4168a0c54a5b800c7340",
      "1a2adc793ce548ffb360c0989ed6ff12",
      "131687c76ff94f6f88be2471e6d022a3",
      "c26066872be240898cbb94bb8eb63ca0",
      "feb57775662e4c708e56c5bf6d807b4b",
      "87c40fa1a3e049288ba06a41e8ea59c6",
      "5481ad4ed0974fe7aa92f0a39caf29de"
     ]
    },
    "id": "Mh2ywTmqIEAu",
    "outputId": "d897586a-5c96-4cae-ba38-2559ca1bc06c",
    "ExecuteTime": {
     "end_time": "2025-03-24T14:05:38.961589Z",
     "start_time": "2025-03-24T14:05:11.565037Z"
    }
   },
   "outputs": [
    {
     "name": "stdout",
     "output_type": "stream",
     "text": [
      "preprocessing train...\n",
      "language: en\n",
      "train sequence lengths:\n",
      "\tmean : 36\n",
      "\t95percentile : 60\n",
      "\t99percentile : 69\n"
     ]
    },
    {
     "data": {
      "text/plain": [
       "<IPython.core.display.HTML object>"
      ],
      "text/html": [
       "\n",
       "<style>\n",
       "    /* Turns off some styling */\n",
       "    progress {\n",
       "        /* gets rid of default border in Firefox and Opera. */\n",
       "        border: none;\n",
       "        /* Needs to be in here for Safari polyfill so background images work as expected. */\n",
       "        background-size: auto;\n",
       "    }\n",
       "    progress:not([value]), progress:not([value])::-webkit-progress-bar {\n",
       "        background: repeating-linear-gradient(45deg, #7e7e7e, #7e7e7e 10px, #5c5c5c 10px, #5c5c5c 20px);\n",
       "    }\n",
       "    .progress-bar-interrupted, .progress-bar-interrupted::-webkit-progress-bar {\n",
       "        background: #F44336;\n",
       "    }\n",
       "</style>\n"
      ]
     },
     "metadata": {},
     "output_type": "display_data"
    },
    {
     "data": {
      "text/plain": [
       "<IPython.core.display.HTML object>"
      ],
      "text/html": []
     },
     "metadata": {},
     "output_type": "display_data"
    },
    {
     "name": "stdout",
     "output_type": "stream",
     "text": [
      "Is Multi-Label? False\n",
      "preprocessing test...\n",
      "language: en\n",
      "test sequence lengths:\n",
      "\tmean : 36\n",
      "\t95percentile : 60\n",
      "\t99percentile : 69\n"
     ]
    },
    {
     "data": {
      "text/plain": [
       "<IPython.core.display.HTML object>"
      ],
      "text/html": [
       "\n",
       "<style>\n",
       "    /* Turns off some styling */\n",
       "    progress {\n",
       "        /* gets rid of default border in Firefox and Opera. */\n",
       "        border: none;\n",
       "        /* Needs to be in here for Safari polyfill so background images work as expected. */\n",
       "        background-size: auto;\n",
       "    }\n",
       "    progress:not([value]), progress:not([value])::-webkit-progress-bar {\n",
       "        background: repeating-linear-gradient(45deg, #7e7e7e, #7e7e7e 10px, #5c5c5c 10px, #5c5c5c 20px);\n",
       "    }\n",
       "    .progress-bar-interrupted, .progress-bar-interrupted::-webkit-progress-bar {\n",
       "        background: #F44336;\n",
       "    }\n",
       "</style>\n"
      ]
     },
     "metadata": {},
     "output_type": "display_data"
    },
    {
     "data": {
      "text/plain": [
       "<IPython.core.display.HTML object>"
      ],
      "text/html": []
     },
     "metadata": {},
     "output_type": "display_data"
    }
   ],
   "execution_count": 13
  },
  {
   "cell_type": "markdown",
   "source": [
    "#### 3.2.1.3 **Estimate a Good Learning Rate**"
   ],
   "metadata": {
    "id": "LVKavzfJdp_w"
   }
  },
  {
   "cell_type": "code",
   "source": [
    "# Find the optimal learning rate for the model\n",
    "learner.lr_find(show_plot=True, max_epochs=Config.EPOCHS)"
   ],
   "metadata": {
    "colab": {
     "base_uri": "https://localhost:8080/",
     "height": 645
    },
    "id": "VJxnxCgEKHNm",
    "outputId": "94ed2b89-62f9-4b4c-f20d-eb8d6d2e53d5",
    "ExecuteTime": {
     "end_time": "2025-03-24T21:01:11.705136Z",
     "start_time": "2025-03-24T14:05:39.030141Z"
    }
   },
   "outputs": [
    {
     "name": "stdout",
     "output_type": "stream",
     "text": [
      "simulating training for different learning rates... this may take a few moments...\n",
      "Epoch 1/4\n",
      "3269/3269 [==============================] - 8786s 3s/step - loss: 0.5052 - accuracy: 0.7758\n",
      "Epoch 2/4\n",
      "3269/3269 [==============================] - 8847s 3s/step - loss: 0.4637 - accuracy: 0.8080\n",
      "Epoch 3/4\n",
      "3269/3269 [==============================] - 7296s 2s/step - loss: 4.5747 - accuracy: 0.7216\n",
      "\n",
      "\n",
      "done.\n",
      "Visually inspect loss plot and select learning rate associated with falling loss\n"
     ]
    },
    {
     "data": {
      "text/plain": [
       "<Figure size 640x480 with 1 Axes>"
      ],
      "image/png": "[encoded data removed]"
     },
     "metadata": {},
     "output_type": "display_data"
    }
   ],
   "execution_count": 14
  },
  {
   "cell_type": "markdown",
   "source": [
    "#### 3.2.1.4 **Train Model**"
   ],
   "metadata": {
    "id": "mGI2XnMrdwD7"
   }
  },
  {
   "cell_type": "code",
   "source": [
    "# Train the model using the One-Cycle policy\n",
    "LR = 1e-4\n",
    "learner.fit_onecycle(LR, Config.EPOCHS)"
   ],
   "metadata": {
    "colab": {
     "base_uri": "https://localhost:8080/"
    },
    "id": "qHZqpXDARyJf",
    "outputId": "fbbb817a-f6e1-4162-9db6-359bfeb21b8e",
    "ExecuteTime": {
     "end_time": "2025-03-25T07:17:04.638222Z",
     "start_time": "2025-03-24T21:01:11.784714Z"
    }
   },
   "outputs": [
    {
     "name": "stdout",
     "output_type": "stream",
     "text": [
      "\n",
      "\n",
      "begin training using onecycle policy with max lr of 0.0001...\n",
      "Epoch 1/4\n",
      "3270/3270 [==============================] - 9192s 3s/step - loss: 0.3616 - accuracy: 0.8601 - val_loss: 0.3435 - val_accuracy: 0.8656\n",
      "Epoch 2/4\n",
      "3270/3270 [==============================] - 9333s 3s/step - loss: 0.3272 - accuracy: 0.8729 - val_loss: 0.3483 - val_accuracy: 0.8707\n",
      "Epoch 3/4\n",
      "3270/3270 [==============================] - 9219s 3s/step - loss: 0.3967 - accuracy: 0.8343 - val_loss: 0.6084 - val_accuracy: 0.7203\n",
      "Epoch 4/4\n",
      "3270/3270 [==============================] - 9209s 3s/step - loss: 0.2940 - accuracy: 0.8889 - val_loss: 0.3936 - val_accuracy: 0.8493\n"
     ]
    },
    {
     "data": {
      "text/plain": [
       "<tf_keras.src.callbacks.History at 0x7f01e8a25b10>"
      ]
     },
     "execution_count": 15,
     "metadata": {},
     "output_type": "execute_result"
    }
   ],
   "execution_count": 15
  },
  {
   "cell_type": "markdown",
   "source": [
    "## **4. Model Evaluation**"
   ],
   "metadata": {
    "id": "zhvgpuSTTkNY"
   }
  },
  {
   "cell_type": "code",
   "source": [
    "# Validate the model and display results\n",
    "results = learner.validate(class_names=t.get_classes(), print_report=True)"
   ],
   "metadata": {
    "colab": {
     "base_uri": "https://localhost:8080/"
    },
    "id": "jB9xZKDMd9x7",
    "outputId": "b960842c-39e0-43de-be56-81da9c87fd28",
    "ExecuteTime": {
     "end_time": "2025-03-25T07:21:41.347063Z",
     "start_time": "2025-03-25T07:17:04.867451Z"
    }
   },
   "outputs": [
    {
     "name": "stdout",
     "output_type": "stream",
     "text": [
      "154/154 [==============================] - 276s 2s/step\n",
      "                precision    recall  f1-score   support\n",
      "\n",
      "HEALTHY LIVING       0.80      0.62      0.70      1375\n",
      "      WELLNESS       0.86      0.94      0.90      3530\n",
      "\n",
      "      accuracy                           0.85      4905\n",
      "     macro avg       0.83      0.78      0.80      4905\n",
      "  weighted avg       0.85      0.85      0.84      4905\n",
      "\n"
     ]
    }
   ],
   "execution_count": 16
  },
  {
   "cell_type": "markdown",
   "source": [
    "### **4.1 Model Evaluation Summary**\n",
    "\n",
    "The evaluation metrics of the deep learning model indicate strong overall performance, with an **accuracy of 86%** in the first test and **85%** in the second. The **F1-score** is consistently high across both classes, demonstrating a good balance between precision and recall."
   ],
   "metadata": {
    "id": "ztm5gzHjJgdE"
   }
  },
  {
   "cell_type": "markdown",
   "source": [
    "#### **4.1.1 Class-Specific Performance**\n",
    "- The **Healthy Living** category achieved an **F1-score of 0.71**, with **precision at 0.79** and **recall at 0.64**. This suggests that the model tends to be more precise but struggles with recall, meaning some instances of this class might be misclassified.\n",
    "- The **Wellness** category performed better, with an **F1-score of 0.90**, **precision at 0.87**, and **recall at 0.93**. The high recall indicates that the model effectively identifies this category, minimizing false negatives."
   ],
   "metadata": {
    "id": "CmNhJoiiJieJ"
   }
  },
  {
   "cell_type": "markdown",
   "source": [
    "#### **4.1.2 Comparison with Prof. Cris Vargo's Model**\n",
    "In comparison with the results from **Prof. Dr. Chris Vargo's model**, it appears that:\n",
    "- Our model achieves similar **macro average scores (around 0.80-0.86)**, suggesting comparable generalization across categories.\n",
    "- The **weighted average F1-score (0.85-0.86)** indicates that our model maintains stable performance considering the class imbalances.\n",
    "- The key difference lies in the **recall for Healthy Living (0.64 vs. higher values in Cris Vargo’s model)**, which suggests room for improvement in correctly capturing this category."
   ],
   "metadata": {
    "id": "QLErNj1PJk_s"
   }
  },
  {
   "cell_type": "markdown",
   "source": [
    "#### **4.1.3 Final Thoughts**\n",
    "While the current model demonstrates strong predictive ability, potential improvements could focus on **enhancing recall for the Healthy Living category**, possibly through **data augmentation, class balancing techniques, or adjusting decision thresholds**. Fine-tuning the model with additional hyperparameter optimization may also further align its performance with Prof. Cris Vargo’s results.\n"
   ],
   "metadata": {
    "id": "9BSAI73cIujG"
   }
  },
  {
   "cell_type": "markdown",
   "source": [
    "## **5. Predictors and Now Data Deployment**"
   ],
   "metadata": {
    "id": "Te3HxpjX1maX"
   }
  },
  {
   "cell_type": "code",
   "source": [
    "# Create a predictor using the trained model and preprocessor\n",
    "predictor = ktrain.get_predictor(learner.model, preproc=t)\n",
    "\n",
    "# Define sample text inputs for classification\n",
    "HEALTHY_LIVING = \"Eating a balanced diet rich in fruits and vegetables\"\n",
    "WELLNESS       = \"Regardless of your housing situation, there's always some form of physical activity you can do at home.\"\n",
    "\n",
    "# Predict the category for the 'HEALTHY_LIVING' text\n",
    "pred_HL = predictor.predict(HEALTHY_LIVING)\n",
    "print(f\"HEALTHY LIVING RESULT:    {pred_HL}\")\n",
    "\n",
    "# Predict the category for the 'WELLNESS' text\n",
    "pred_W = predictor.predict(WELLNESS)\n",
    "print(f\"WELLNESS SENTENCE RESULT: {pred_W}\")\n"
   ],
   "metadata": {
    "colab": {
     "base_uri": "https://localhost:8080/"
    },
    "id": "DEtjd8KZ7Qic",
    "outputId": "6dc4242a-289b-474e-9adf-8f0e878b1add",
    "ExecuteTime": {
     "end_time": "2025-03-25T07:21:46.437785Z",
     "start_time": "2025-03-25T07:21:41.395269Z"
    }
   },
   "outputs": [
    {
     "name": "stdout",
     "output_type": "stream",
     "text": [
      "HEALTHY LIVING RESULT:    HEALTHY LIVING\n",
      "WELLNESS SENTENCE RESULT: HEALTHY LIVING\n"
     ]
    }
   ],
   "execution_count": 17
  },
  {
   "cell_type": "code",
   "source": [
    "# Predicting the probability distribution for the HEALTHY_LIVING category\n",
    "pred_HL_prob = predictor.predict_proba(HEALTHY_LIVING)\n",
    "print(f\"HEALTHY LIVING: {pred_HL_prob}\")\n",
    "\n",
    "# Predicting the probability distribution for the WELLNESS category\n",
    "pred_W_prob = predictor.predict_proba(WELLNESS)\n",
    "print(f\"WELLNESS: {pred_W_prob}\")\n"
   ],
   "metadata": {
    "colab": {
     "base_uri": "https://localhost:8080/"
    },
    "id": "kMAQmW79DOLs",
    "outputId": "9667cbfb-71fa-4be6-e93b-abe0b27f8697",
    "ExecuteTime": {
     "end_time": "2025-03-25T07:21:46.594191Z",
     "start_time": "2025-03-25T07:21:46.444735Z"
    }
   },
   "outputs": [
    {
     "name": "stdout",
     "output_type": "stream",
     "text": [
      "HEALTHY LIVING: [0.9949136  0.00508641]\n",
      "WELLNESS: [0.90489846 0.0951015 ]\n"
     ]
    }
   ],
   "execution_count": 18
  },
  {
   "cell_type": "markdown",
   "source": [
    "## **✅ Additional Information**\n",
    "\n"
   ],
   "metadata": {
    "id": "A0J72512SqRX"
   }
  },
  {
   "cell_type": "code",
   "source": [
    "# End time\n",
    "end_time = time.time()\n",
    "\n",
    "# Calculate total execution time\n",
    "total_time = end_time - start_time\n",
    "\n",
    "# Convert total execution time to hours, minutes, and seconds\n",
    "hours = int(total_time // 3600)\n",
    "minutes = int((total_time % 3600) // 60)\n",
    "seconds = int(total_time % 60)\n",
    "\n",
    "# Print total execution time\n",
    "print(f\"Total execution time: {hours}h {minutes}m {seconds}s\")"
   ],
   "metadata": {
    "colab": {
     "base_uri": "https://localhost:8080/"
    },
    "id": "K7uKFuz21aGD",
    "outputId": "276b75f6-993e-4b7d-9f97-fcb768b0f756",
    "ExecuteTime": {
     "end_time": "2025-03-25T07:21:46.633339Z",
     "start_time": "2025-03-25T07:21:46.628248Z"
    }
   },
   "outputs": [
    {
     "name": "stdout",
     "output_type": "stream",
     "text": [
      "Total execution time: 19h 45m 33s\n"
     ]
    }
   ],
   "execution_count": 19
  },
  {
   "cell_type": "code",
   "source": [
    "# Print the GPU information\n",
    "!nvidia-smi"
   ],
   "metadata": {
    "colab": {
     "base_uri": "https://localhost:8080/"
    },
    "id": "qzyeIg4gCtSj",
    "outputId": "914c24f3-ea86-4558-e55f-aeb4a061d79b",
    "ExecuteTime": {
     "end_time": "2025-03-25T08:50:04.325656Z",
     "start_time": "2025-03-25T08:50:04.128773Z"
    }
   },
   "outputs": [
    {
     "name": "stdout",
     "output_type": "stream",
     "text": [
      "Tue Mar 25 08:50:04 2025       \r\n",
      "+-----------------------------------------------------------------------------------------+\r\n",
      "| NVIDIA-SMI 570.124.03             Driver Version: 572.60         CUDA Version: 12.8     |\r\n",
      "|-----------------------------------------+------------------------+----------------------+\r\n",
      "| GPU  Name                 Persistence-M | Bus-Id          Disp.A | Volatile Uncorr. ECC |\r\n",
      "| Fan  Temp   Perf          Pwr:Usage/Cap |           Memory-Usage | GPU-Util  Compute M. |\r\n",
      "|                                         |                        |               MIG M. |\r\n",
      "|=========================================+========================+======================|\r\n",
      "|   0  NVIDIA GeForce GTX 1050 Ti     On  |   00000000:01:00.0  On |                  N/A |\r\n",
      "| 40%   36C    P8            N/A  /   75W |     747MiB /   4096MiB |      8%      Default |\r\n",
      "|                                         |                        |                  N/A |\r\n",
      "+-----------------------------------------+------------------------+----------------------+\r\n",
      "                                                                                         \r\n",
      "+-----------------------------------------------------------------------------------------+\r\n",
      "| Processes:                                                                              |\r\n",
      "|  GPU   GI   CI              PID   Type   Process name                        GPU Memory |\r\n",
      "|        ID   ID                                                               Usage      |\r\n",
      "|=========================================================================================|\r\n",
      "|  No running processes found                                                             |\r\n",
      "+-----------------------------------------------------------------------------------------+\r\n"
     ]
    }
   ],
   "execution_count": 23
  }
 ]
}
